{
 "cells": [
  {
   "cell_type": "code",
   "execution_count": null,
   "metadata": {},
   "outputs": [],
   "source": [
    "import warnings"
   ]
  },
  {
   "cell_type": "code",
   "execution_count": null,
   "metadata": {},
   "outputs": [],
   "source": [
    "%matplotlib inline\n",
    "import matplotlib.pyplot as plt"
   ]
  },
  {
   "cell_type": "code",
   "execution_count": null,
   "metadata": {},
   "outputs": [],
   "source": [
    "import numpy as np"
   ]
  },
  {
   "cell_type": "code",
   "execution_count": null,
   "metadata": {},
   "outputs": [],
   "source": [
    "import torch\n",
    "import pddp\n",
    "import pddp.models.gp"
   ]
  },
  {
   "cell_type": "code",
   "execution_count": null,
   "metadata": {},
   "outputs": [],
   "source": [
    "state_size = 2\n",
    "action_size = 1\n",
    "N = 100\n",
    "encoding = 2"
   ]
  },
  {
   "cell_type": "code",
   "execution_count": null,
   "metadata": {},
   "outputs": [],
   "source": [
    "X_ = torch.randn(N, state_size)\n",
    "U_ = torch.randn(N, action_size)\n",
    "Y_ = X_.sin()\n",
    "if state_size == 2:\n",
    "    Y_ = torch.stack([X_[..., 0].sin(), X_[..., 1].cos()], dim=-1)\n",
    "Y_ += 1e-2 * torch.randn_like(X_)\n",
    "dX = Y_ - X_"
   ]
  },
  {
   "cell_type": "code",
   "execution_count": null,
   "metadata": {},
   "outputs": [],
   "source": [
    "gp = pddp.models.gp.gp_dynamics_model_factory(state_size, action_size)()"
   ]
  },
  {
   "cell_type": "code",
   "execution_count": null,
   "metadata": {},
   "outputs": [],
   "source": [
    "gp.fit(X_, U_, dX, learning_rate=0.1, n_iter=100)"
   ]
  },
  {
   "cell_type": "code",
   "execution_count": null,
   "metadata": {},
   "outputs": [],
   "source": [
    "def plot_variance(X, Y, encoding, indices=None, std_scale=1.0):\n",
    "    mean_ = pddp.utils.encoding.decode_mean(Y, encoding)\n",
    "    std_ = pddp.utils.encoding.decode_std(Y, encoding)\n",
    "    \n",
    "    colors = [\"C0\", \"C1\", \"C2\", \"C3\"]\n",
    "    if indices is None:\n",
    "        indices = list(range(mean_.shape[-1]))\n",
    "\n",
    "    plt.figure(figsize=(12, 6))\n",
    "    for index in indices:\n",
    "        x = X[:, index].detach().numpy()\n",
    "        mean = mean_[:, index].detach().numpy()\n",
    "        std = std_[:, index].detach().numpy()\n",
    "\n",
    "        plt.scatter(X_[:, index].detach().numpy(),\n",
    "                    Y_[:, index].detach().numpy(),\n",
    "                    color=colors[index], marker='s')\n",
    "        plt.plot(x, mean, color=colors[index])\n",
    "\n",
    "        for i in range(1, 4):\n",
    "            j = std_scale * i\n",
    "            plt.gca().fill_between(\n",
    "                x.flat, (mean - j * std).flat, (mean + j * std).flat,\n",
    "                color=colors[index], alpha=1.0 / (i + 2))\n",
    "\n",
    "    plt.ylim(-5, 5)\n",
    "\n",
    "    plt.show()"
   ]
  },
  {
   "cell_type": "code",
   "execution_count": null,
   "metadata": {},
   "outputs": [],
   "source": [
    "test_x = torch.linspace(-5, 5, 100).unsqueeze(1).repeat(1, state_size)\n",
    "Z = torch.cat([test_x, torch.ones_like(test_x)], dim=-1)\n",
    "U = torch.randn(100, action_size)"
   ]
  },
  {
   "cell_type": "code",
   "execution_count": null,
   "metadata": {},
   "outputs": [],
   "source": [
    "output = gp(Z, U, 0, encoding=encoding)"
   ]
  },
  {
   "cell_type": "code",
   "execution_count": null,
   "metadata": {},
   "outputs": [],
   "source": [
    "plot_variance(test_x, output, encoding, [0])"
   ]
  },
  {
   "cell_type": "code",
   "execution_count": null,
   "metadata": {},
   "outputs": [],
   "source": [
    "if state_size > 1:\n",
    "    plot_variance(test_x, output, encoding, [1])"
   ]
  }
 ],
 "metadata": {
  "kernelspec": {
   "display_name": "Python 3",
   "language": "python",
   "name": "python3"
  },
  "language_info": {
   "codemirror_mode": {
    "name": "ipython",
    "version": 3
   },
   "file_extension": ".py",
   "mimetype": "text/x-python",
   "name": "python",
   "nbconvert_exporter": "python",
   "pygments_lexer": "ipython3",
   "version": "3.7.0"
  }
 },
 "nbformat": 4,
 "nbformat_minor": 2
}
