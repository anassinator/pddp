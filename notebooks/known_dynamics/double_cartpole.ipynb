{
 "cells": [
  {
   "cell_type": "markdown",
   "metadata": {},
   "source": [
    "# Double Cartpole\n",
    "\n"
   ]
  },
  {
   "cell_type": "markdown",
   "metadata": {},
   "source": [
    "The state and control vectors $\\textbf{x}$ and $\\textbf{u}$ are defined as follows:\n",
    "\n",
    "$$\n",
    "\\begin{equation*}\n",
    "\\textbf{x} = \\begin{bmatrix}\n",
    "    x & \\dot{x} & \\theta_1 & \\dot{\\theta_1} & \\theta_2 & \\dot{\\theta_2}\n",
    "    \\end{bmatrix}\n",
    "\\end{equation*}\n",
    "$$\n",
    "\n",
    "$$\n",
    "\\begin{equation*}\n",
    "\\textbf{u} = \\begin{bmatrix}\n",
    "    F_{x}\n",
    "    \\end{bmatrix}\n",
    "\\end{equation*}\n",
    "$$\n",
    "\n",
    "The goal is to swing the carptole upright:\n",
    "$$\n",
    "\\begin{equation*}\n",
    "\\textbf{x}_{goal} = \\begin{bmatrix}\n",
    "    0 & 0 & 0 & 0 & 0 & 0\n",
    "    \\end{bmatrix}\n",
    "\\end{equation*}\n",
    "$$"
   ]
  },
  {
   "cell_type": "code",
   "execution_count": null,
   "metadata": {},
   "outputs": [],
   "source": [
    "%matplotlib inline"
   ]
  },
  {
   "cell_type": "code",
   "execution_count": null,
   "metadata": {},
   "outputs": [],
   "source": [
    "from __future__ import print_function"
   ]
  },
  {
   "cell_type": "code",
   "execution_count": null,
   "metadata": {},
   "outputs": [],
   "source": [
    "import matplotlib.pyplot as plt"
   ]
  },
  {
   "cell_type": "code",
   "execution_count": null,
   "metadata": {},
   "outputs": [],
   "source": [
    "import pddp\n",
    "import pddp.examples"
   ]
  },
  {
   "cell_type": "code",
   "execution_count": null,
   "metadata": {},
   "outputs": [],
   "source": [
    "import torch\n",
    "import numpy as np"
   ]
  },
  {
   "cell_type": "code",
   "execution_count": null,
   "metadata": {},
   "outputs": [],
   "source": [
    "DT = 0.05  # Time step (s).\n",
    "RENDER = True  # Whether to render the environment or not.\n",
    "N = 50 # Horizon length.\n",
    "\n",
    "# Disable uncertainty since we are dealing with known dynamics.\n",
    "ENCODING = pddp.StateEncoding.IGNORE_UNCERTAINTY"
   ]
  },
  {
   "cell_type": "code",
   "execution_count": null,
   "metadata": {},
   "outputs": [],
   "source": [
    "cost = pddp.examples.double_cartpole.DoubleCartpoleCost()\n",
    "model = pddp.examples.double_cartpole.DoubleCartpoleDynamicsModel(DT)\n",
    "env = pddp.examples.double_cartpole.DoubleCartpoleEnv(dt=DT, render=RENDER)"
   ]
  },
  {
   "cell_type": "code",
   "execution_count": null,
   "metadata": {},
   "outputs": [],
   "source": [
    "def plot(Z, U):\n",
    "    t = np.arange(N + 1) * DT\n",
    "    X = pddp.utils.encoding.decode_mean(Z, ENCODING).detach().numpy()\n",
    "    U = U.detach().numpy()\n",
    "\n",
    "    x = X[:, 0]\n",
    "    x_dot = X[:, 1]\n",
    "    theta1 = np.unwrap(X[:, 2])  # Makes for smoother plots.\n",
    "    theta1_dot = X[:, 3]\n",
    "    theta2 = np.unwrap(X[:, 4])  # Makes for smoother plots.\n",
    "    theta2_dot = X[:, 5]\n",
    "    \n",
    "    plt.figure()\n",
    "    plt.plot(theta1, theta1_dot)\n",
    "    plt.xlabel(\"Orientation (rad)\")\n",
    "    plt.ylabel(\"Angular velocity (rad/s)\")\n",
    "    plt.title(\"Link 1 Orientation Phase Plot\")\n",
    "\n",
    "    plt.figure()\n",
    "    plt.plot(theta2, theta2_dot)\n",
    "    plt.xlabel(\"Orientation (rad)\")\n",
    "    plt.ylabel(\"Angular velocity (rad/s)\")\n",
    "    plt.title(\"Link 2 Orientation Phase Plot\")\n",
    "    \n",
    "    plt.figure()\n",
    "    plt.plot(t, x)\n",
    "    plt.xlabel(\"Time (s)\")\n",
    "    plt.ylabel(\"Position (m)\")\n",
    "    plt.title(\"Position path\")\n",
    "    \n",
    "    plt.figure()\n",
    "    plt.plot(t, x_dot)\n",
    "    plt.xlabel(\"Time (s)\")\n",
    "    plt.ylabel(\"Velocity (m / s)\")\n",
    "    plt.title(\"Velocity path\")\n",
    "    \n",
    "    plt.figure()\n",
    "    plt.plot(t, theta1)\n",
    "    plt.xlabel(\"Time (s)\")\n",
    "    plt.ylabel(\"Orientation (rad)\")\n",
    "    plt.title(\"Link 1 orientation path\")\n",
    "\n",
    "    plt.figure()\n",
    "    plt.plot(t, theta1_dot)\n",
    "    plt.xlabel(\"Time (s)\")\n",
    "    plt.ylabel(\"Angular velocity (rad / s)\")\n",
    "    plt.title(\"Link 1 angular velocity path\")\n",
    "    \n",
    "    plt.figure()\n",
    "    plt.plot(t, theta2)\n",
    "    plt.xlabel(\"Time (s)\")\n",
    "    plt.ylabel(\"Orientation (rad)\")\n",
    "    plt.title(\"Link 2 orientation path\")\n",
    "    \n",
    "    plt.figure()\n",
    "    plt.plot(t, theta2_dot)\n",
    "    plt.xlabel(\"Time (s)\")\n",
    "    plt.ylabel(\"Angular velocity (rad / s)\")\n",
    "    plt.title(\"Link 2 angular velocity path\")\n",
    "\n",
    "    plt.figure()\n",
    "    plt.plot(t[:-1], U)\n",
    "    plt.xlabel(\"Time (s)\")\n",
    "    plt.ylabel(\"Force (N)\")\n",
    "    plt.title(\"Action path\")\n",
    "    \n",
    "    plt.figure()\n",
    "    plt.plot(J_hist)\n",
    "    plt.xlabel(\"Iteration\")\n",
    "    plt.ylabel(\"Total loss\")\n",
    "    plt.title(\"Loss path\")"
   ]
  },
  {
   "cell_type": "code",
   "execution_count": null,
   "metadata": {},
   "outputs": [],
   "source": [
    "def on_iteration(iteration, Z, U, J_opt, accepted, converged):\n",
    "    J_opt = J_opt.detach().numpy()\n",
    "\n",
    "    J_hist.append(J_opt)\n",
    "    info = \"CONVERGED\" if converged else (\"accepted\" if accepted else \"FAILED\")\n",
    "    final_state = Z[-1].detach().numpy()\n",
    "    final_state[2] = (final_state[2] + np.pi) % (2 * np.pi) - np.pi\n",
    "    final_state[4] = (final_state[4] + np.pi) % (2 * np.pi) - np.pi\n",
    "    print(\"iteration\", iteration + 1, info, J_opt, final_state)"
   ]
  },
  {
   "cell_type": "code",
   "execution_count": null,
   "metadata": {},
   "outputs": [],
   "source": [
    "controller = pddp.controllers.PDDPController(env, model, cost)"
   ]
  },
  {
   "cell_type": "code",
   "execution_count": null,
   "metadata": {},
   "outputs": [],
   "source": [
    "U = torch.randn(N, model.action_size)"
   ]
  },
  {
   "cell_type": "code",
   "execution_count": null,
   "metadata": {
    "scrolled": false
   },
   "outputs": [],
   "source": [
    "J_hist = []\n",
    "controller.eval()\n",
    "Z, U = controller.fit(U, encoding=ENCODING, n_iterations=200,\n",
    "                      on_iteration=on_iteration)"
   ]
  },
  {
   "cell_type": "code",
   "execution_count": null,
   "metadata": {},
   "outputs": [],
   "source": [
    "plot(Z, U)"
   ]
  },
  {
   "cell_type": "code",
   "execution_count": null,
   "metadata": {},
   "outputs": [],
   "source": [
    "if RENDER:\n",
    "    # Wait for user interaction before visualizing. \n",
    "    _ = input(\"Press ENTER to continue\")"
   ]
  },
  {
   "cell_type": "code",
   "execution_count": null,
   "metadata": {},
   "outputs": [],
   "source": [
    "for u in U:\n",
    "    env.apply(u)"
   ]
  },
  {
   "cell_type": "code",
   "execution_count": null,
   "metadata": {},
   "outputs": [],
   "source": [
    "env.close()"
   ]
  }
 ],
 "metadata": {
  "kernelspec": {
   "display_name": "Python 3",
   "language": "python",
   "name": "python3"
  },
  "language_info": {
   "codemirror_mode": {
    "name": "ipython",
    "version": 3
   },
   "file_extension": ".py",
   "mimetype": "text/x-python",
   "name": "python",
   "nbconvert_exporter": "python",
   "pygments_lexer": "ipython3",
   "version": "3.7.0"
  }
 },
 "nbformat": 4,
 "nbformat_minor": 2
}
