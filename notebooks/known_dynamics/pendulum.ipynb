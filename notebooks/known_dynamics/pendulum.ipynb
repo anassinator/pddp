{
 "cells": [
  {
   "cell_type": "markdown",
   "metadata": {},
   "source": [
    "# Pendulum"
   ]
  },
  {
   "cell_type": "markdown",
   "metadata": {},
   "source": [
    "The state and control vectors $\\textbf{x}$ and $\\textbf{u}$ are defined as follows:\n",
    "\n",
    "$$\n",
    "\\begin{equation*}\n",
    "\\textbf{x} = \\begin{bmatrix}\n",
    "    \\theta & \\dot{\\theta}\n",
    "    \\end{bmatrix}\n",
    "\\end{equation*}\n",
    "$$\n",
    "\n",
    "$$\n",
    "\\begin{equation*}\n",
    "\\textbf{u} = \\begin{bmatrix}\n",
    "    \\tau\n",
    "    \\end{bmatrix}\n",
    "\\end{equation*}\n",
    "$$\n",
    "\n",
    "The goal is to swing the pendulum upright:\n",
    "$$\n",
    "\\begin{equation*}\n",
    "\\textbf{x}_{goal} = \\begin{bmatrix}\n",
    "    \\pi & 0\n",
    "    \\end{bmatrix}\n",
    "\\end{equation*}\n",
    "$$\n",
    "\n",
    "**Note**: The force is constrained between $-2.5$ and $2.5$ Nm."
   ]
  },
  {
   "cell_type": "code",
   "execution_count": 1,
   "metadata": {},
   "outputs": [],
   "source": [
    "%matplotlib inline"
   ]
  },
  {
   "cell_type": "code",
   "execution_count": 2,
   "metadata": {},
   "outputs": [],
   "source": [
    "from __future__ import print_function"
   ]
  },
  {
   "cell_type": "code",
   "execution_count": 3,
   "metadata": {},
   "outputs": [],
   "source": [
    "import matplotlib.pyplot as plt"
   ]
  },
  {
   "cell_type": "code",
   "execution_count": 4,
   "metadata": {},
   "outputs": [],
   "source": [
    "import pddp\n",
    "import pddp.examples"
   ]
  },
  {
   "cell_type": "code",
   "execution_count": 5,
   "metadata": {},
   "outputs": [],
   "source": [
    "import torch\n",
    "import numpy as np"
   ]
  },
  {
   "cell_type": "code",
   "execution_count": 6,
   "metadata": {},
   "outputs": [],
   "source": [
    "DT = 0.1  # Time step (s).\n",
    "N = 40  # Horizon length.\n",
    "RENDER = True  # Whether to render the environment or not.\n",
    "\n",
    "# Disable uncertainty since we are dealing with known dynamics.\n",
    "ENCODING = pddp.StateEncoding.IGNORE_UNCERTAINTY"
   ]
  },
  {
   "cell_type": "code",
   "execution_count": 7,
   "metadata": {},
   "outputs": [],
   "source": [
    "cost = pddp.examples.pendulum.PendulumCost()\n",
    "model = pddp.examples.pendulum.PendulumDynamicsModel(DT)\n",
    "env = pddp.examples.pendulum.PendulumEnv(dt=DT, render=RENDER)"
   ]
  },
  {
   "cell_type": "code",
   "execution_count": 8,
   "metadata": {},
   "outputs": [],
   "source": [
    "def plot(Z, U):\n",
    "    t = np.arange(N + 1) * DT\n",
    "    X = pddp.utils.encoding.decode_mean(Z, ENCODING).detach().numpy()\n",
    "    U = model.constrain(U).detach().numpy()\n",
    "\n",
    "    theta = np.unwrap(X[:, 0])  # Makes for smoother plots.\n",
    "    theta_dot = X[:, 1]\n",
    "    \n",
    "    plt.figure()\n",
    "    plt.plot(theta, theta_dot)\n",
    "    plt.xlabel(\"Orientation (rad)\")\n",
    "    plt.ylabel(\"Angular velocity (rad/s)\")\n",
    "    plt.title(\"Orientation Phase Plot\")\n",
    "\n",
    "    plt.figure()\n",
    "    plt.plot(t, theta)\n",
    "    plt.xlabel(\"Time (s)\")\n",
    "    plt.ylabel(\"Orientation (rad)\")\n",
    "    plt.title(\"Orientation path\")\n",
    "\n",
    "    plt.figure()\n",
    "    plt.plot(t, theta_dot)\n",
    "    plt.xlabel(\"Time (s)\")\n",
    "    plt.ylabel(\"Angular velocity (rad / s)\")\n",
    "    plt.title(\"Angular velocity path\")\n",
    "    \n",
    "    plt.figure()\n",
    "    plt.plot(t[:-1], U)\n",
    "    plt.xlabel(\"Time (s)\")\n",
    "    plt.ylabel(\"Torque (N m)\")\n",
    "    plt.title(\"Constrained action path\")\n",
    "    \n",
    "    plt.figure()\n",
    "    plt.plot(J_hist)\n",
    "    plt.xlabel(\"Iteration\")\n",
    "    plt.ylabel(\"Total loss\")\n",
    "    plt.title(\"Loss path\")"
   ]
  },
  {
   "cell_type": "code",
   "execution_count": 9,
   "metadata": {},
   "outputs": [],
   "source": [
    "def on_iteration(iteration, Z, U, J_opt, accepted, converged):\n",
    "    J_opt = J_opt.detach().numpy()\n",
    "\n",
    "    J_hist.append(J_opt)\n",
    "    info = \"CONVERGED\" if converged else (\"accepted\" if accepted else \"FAILED\")\n",
    "    final_state = Z[-1].detach().numpy()\n",
    "    final_state[0] = (final_state[0] + np.pi) % (2 * np.pi) - np.pi\n",
    "    print(\"iteration\", iteration + 1, info, J_opt, final_state)"
   ]
  },
  {
   "cell_type": "code",
   "execution_count": 10,
   "metadata": {},
   "outputs": [],
   "source": [
    "controller = pddp.controllers.PDDPController(env, model, cost)"
   ]
  },
  {
   "cell_type": "code",
   "execution_count": 11,
   "metadata": {},
   "outputs": [],
   "source": [
    "U = torch.randn(N, model.action_size)"
   ]
  },
  {
   "cell_type": "code",
   "execution_count": 12,
   "metadata": {
    "scrolled": false
   },
   "outputs": [
    {
     "data": {
      "application/vnd.jupyter.widget-view+json": {
       "model_id": "719111a9de1d4782998747fd80425b68",
       "version_major": 2,
       "version_minor": 0
      },
      "text/plain": [
       "HBox(children=(IntProgress(value=0, description='PDDP', max=200), HTML(value='')))"
      ]
     },
     "metadata": {},
     "output_type": "display_data"
    },
    {
     "name": "stdout",
     "output_type": "stream",
     "text": [
      "iteration 8 accepted 499.36066 [ 0.97937304 -0.8854797 ]\n",
      "iteration 9 accepted 418.2935 [ 1.1120493 -0.2252568]\n",
      "iteration 10 accepted 402.36694 [1.3250463 0.0397948]\n",
      "iteration 11 accepted 384.12054 [1.8633442 0.3117615]\n",
      "iteration 12 accepted 287.78845 [ 1.8596087  -0.00641692]\n",
      "iteration 13 accepted 227.66855 [2.29452   0.0806061]\n",
      "iteration 14 accepted 221.58597 [2.3126984  0.07085049]\n",
      "iteration 15 accepted 213.02736 [2.3419366  0.03660643]\n",
      "iteration 16 accepted 201.7764 [2.471073   0.03401327]\n",
      "iteration 17 accepted 198.70322 [2.5183275 0.0188036]\n",
      "iteration 18 accepted 194.31772 [2.5441806  0.01705551]\n",
      "iteration 19 accepted 192.79721 [2.5592837  0.01544619]\n",
      "iteration 20 accepted 187.9782 [2.735868   0.06961739]\n",
      "iteration 21 accepted 187.09444 [2.7183359  0.06489575]\n",
      "iteration 22 accepted 185.09906 [2.7189486  0.03694236]\n",
      "iteration 23 accepted 184.31644 [2.7172363 0.0280844]\n",
      "iteration 24 accepted 182.69807 [2.7297645  0.01518512]\n",
      "iteration 25 accepted 182.00877 [2.7343013  0.01340461]\n",
      "iteration 26 accepted 179.64316 [2.8163152  0.01639807]\n",
      "iteration 27 accepted 178.83987 [2.8093598  0.01264811]\n",
      "iteration 28 accepted 177.85077 [2.8172708  0.00807595]\n",
      "iteration 29 accepted 177.10307 [2.8146756  0.00462139]\n",
      "iteration 30 accepted 176.28972 [2.8184595  0.00403279]\n",
      "iteration 31 accepted 174.97646 [2.8586228e+00 2.4346709e-03]\n",
      "iteration 32 accepted 174.35712 [2.8544223e+00 2.4352670e-03]\n",
      "iteration 33 accepted 173.11304 [2.8785317  0.00389338]\n",
      "iteration 34 accepted 172.67877 [2.8721087  0.00407314]\n",
      "iteration 35 accepted 172.044 [2.8722763  0.00348532]\n",
      "iteration 36 accepted 171.24988 [2.8950160e+00 1.3278723e-03]\n",
      "iteration 37 accepted 170.67068 [2.8893774e+00 1.3926029e-03]\n",
      "iteration 38 accepted 169.99942 [2.9086478e+00 2.2209883e-03]\n",
      "iteration 39 accepted 169.48892 [2.9056993e+00 2.1134019e-03]\n",
      "iteration 40 accepted 168.82355 [2.9207873e+00 1.4439225e-03]\n",
      "iteration 41 accepted 168.49356 [2.9191227e+00 1.5490055e-03]\n",
      "iteration 42 accepted 168.07477 [2.9228497e+00 1.7669797e-03]\n",
      "iteration 43 accepted 167.82925 [2.9233603e+00 1.7023087e-03]\n",
      "iteration 44 accepted 167.45436 [2.9279444e+00 1.5910864e-03]\n",
      "iteration 45 accepted 167.22353 [2.9279473e+00 1.5739202e-03]\n",
      "iteration 46 accepted 166.87497 [2.9324257e+00 1.5243888e-03]\n",
      "iteration 47 accepted 166.65057 [2.9321775e+00 1.5264750e-03]\n",
      "iteration 48 accepted 166.31577 [2.9366033e+00 1.5048981e-03]\n",
      "iteration 49 accepted 166.09738 [2.9361537e+00 1.5187263e-03]\n",
      "iteration 50 accepted 165.77452 [2.9405532e+00 1.5051961e-03]\n",
      "iteration 51 accepted 165.55965 [2.9415965e+00 1.5205741e-03]\n",
      "iteration 52 accepted 164.97653 [2.9595199e+00 1.7835498e-03]\n",
      "iteration 53 accepted 164.75563 [2.9584050e+00 2.1218061e-03]\n",
      "iteration 54 accepted 164.27182 [2.9658620e+00 1.8757582e-03]\n",
      "iteration 55 accepted 164.04192 [2.9622664e+00 1.9003153e-03]\n",
      "iteration 56 accepted 163.79016 [2.9650972e+00 2.0472407e-03]\n",
      "iteration 57 accepted 163.60457 [2.9654746e+00 2.0129681e-03]\n",
      "iteration 58 accepted 163.34102 [2.9733379e+00 1.7732978e-03]\n",
      "iteration 59 accepted 163.00835 [2.9712639e+00 1.8396974e-03]\n",
      "iteration 60 accepted 162.60031 [2.9810638e+00 1.8430352e-03]\n",
      "iteration 61 accepted 162.4103 [2.9792178e+00 2.0624399e-03]\n",
      "iteration 62 accepted 162.19893 [2.9816718e+00 1.9605160e-03]\n",
      "iteration 63 accepted 162.05127 [2.9815528e+00 1.9553304e-03]\n",
      "iteration 64 accepted 161.85495 [2.9843669e+00 1.9187927e-03]\n",
      "iteration 65 accepted 161.71655 [2.9843371e+00 1.9274354e-03]\n",
      "iteration 66 accepted 161.53351 [2.9871848e+00 1.9010901e-03]\n",
      "iteration 67 accepted 161.39993 [2.9872024e+00 1.9142628e-03]\n",
      "iteration 68 accepted 161.2247 [2.9900558e+00 1.8951297e-03]\n",
      "iteration 69 accepted 161.09328 [2.9901400e+00 1.9083619e-03]\n",
      "iteration 70 accepted 160.92085 [2.9929898e+00 1.8917918e-03]\n",
      "iteration 71 accepted 160.79028 [2.9931610e+00 1.9027591e-03]\n",
      "iteration 72 accepted 160.61746 [2.9959812e+00 1.8869638e-03]\n",
      "iteration 73 accepted 160.48817 [2.9962487e+00 1.8943548e-03]\n",
      "iteration 74 accepted 160.31482 [2.9989924e+00 1.8783808e-03]\n",
      "iteration 75 accepted 160.18996 [2.9993510e+00 1.8818974e-03]\n",
      "iteration 76 accepted 160.01912 [3.0019581e+00 1.8657446e-03]\n",
      "iteration 77 accepted 159.90302 [3.0023921e+00 1.8652678e-03]\n",
      "iteration 78 accepted 159.73796 [3.0048122e+00 1.8490553e-03]\n",
      "iteration 79 accepted 159.62733 [3.0050249e+00 1.8697381e-03]\n",
      "iteration 80 accepted 159.4614 [3.0056691e+00 1.8598437e-03]\n",
      "iteration 81 accepted 159.19164 [3.0115173e+00 2.0521283e-03]\n",
      "iteration 82 accepted 159.07054 [3.0107746e+00 2.0563602e-03]\n",
      "iteration 83 accepted 158.93346 [3.0124202e+00 1.9026995e-03]\n",
      "iteration 84 accepted 158.83987 [3.0128753e+00 1.8650889e-03]\n",
      "iteration 85 accepted 158.66434 [3.0162108e+00 1.7641187e-03]\n",
      "iteration 86 accepted 158.50621 [3.0158019e+00 1.7715693e-03]\n",
      "iteration 87 accepted 158.2718 [3.0196273e+00 1.7747283e-03]\n",
      "iteration 88 accepted 158.14659 [3.0191498e+00 1.7748475e-03]\n",
      "iteration 89 accepted 158.00854 [3.0214236e+00 1.6746521e-03]\n",
      "iteration 90 accepted 157.82765 [3.0206022e+00 1.6971827e-03]\n",
      "iteration 91 accepted 157.66353 [3.0244055e+00 1.8069148e-03]\n",
      "iteration 92 accepted 157.52103 [3.0241258e+00 1.7908216e-03]\n",
      "iteration 93 accepted 157.40518 [3.0254090e+00 1.6795993e-03]\n",
      "iteration 94 accepted 157.3251 [3.0257511e+00 1.6511679e-03]\n",
      "iteration 95 accepted 157.1679 [3.0286593e+00 1.5937090e-03]\n",
      "iteration 96 accepted 157.05406 [3.0282540e+00 1.5973449e-03]\n",
      "iteration 97 accepted 156.8886 [3.0308745e+00 1.5522242e-03]\n",
      "iteration 98 accepted 156.77853 [3.0304189e+00 1.5528798e-03]\n",
      "iteration 99 accepted 156.68466 [3.0314672e+00 1.5221834e-03]\n",
      "iteration 100 accepted 156.6027 [3.0315528e+00 1.5111566e-03]\n",
      "iteration 101 accepted 156.50659 [3.0327756e+00 1.4934540e-03]\n",
      "iteration 102 accepted 156.4251 [3.0329528e+00 1.4818311e-03]\n",
      "iteration 103 accepted 156.32683 [3.0342042e+00 1.4647245e-03]\n",
      "iteration 104 accepted 156.24529 [3.0344145e+00 1.4532208e-03]\n",
      "iteration 105 accepted 156.14601 [3.0356691e+00 1.4365911e-03]\n",
      "iteration 106 accepted 156.06621 [3.0359035e+00 1.4247894e-03]\n",
      "iteration 107 accepted 155.96785 [3.0371394e+00 1.4082789e-03]\n",
      "iteration 108 accepted 155.8921 [3.0373938e+00 1.3964176e-03]\n",
      "iteration 109 accepted 155.7964 [3.0385864e+00 1.3797879e-03]\n",
      "iteration 110 accepted 155.72629 [3.0388575e+00 1.3681054e-03]\n",
      "iteration 111 accepted 155.63388 [3.0399864e+00 1.3513565e-03]\n",
      "iteration 112 accepted 155.56966 [3.0402706e+00 1.3400316e-03]\n",
      "iteration 113 accepted 155.47028 [3.0422182e+00 1.3236403e-03]\n",
      "iteration 114 accepted 155.34793 [3.0419765e+00 1.3235211e-03]\n",
      "iteration 115 accepted 155.20393 [3.0443075e+00 1.3174415e-03]\n",
      "iteration 116 accepted 155.11916 [3.0440729e+00 1.3042092e-03]\n",
      "iteration 117 accepted 155.03253 [3.0456448e+00 1.2458563e-03]\n",
      "iteration 118 accepted 154.91718 [3.0454359e+00 1.2462139e-03]\n",
      "iteration 119 accepted 154.83922 [3.0462706e+00 1.2291670e-03]\n",
      "iteration 120 accepted 154.77554 [3.0465086e+00 1.2196302e-03]\n",
      "iteration 121 accepted 154.69247 [3.0474420e+00 1.2060404e-03]\n",
      "iteration 122 accepted 154.63226 [3.0476708e+00 1.1966825e-03]\n",
      "iteration 123 accepted 154.54222 [3.0492764e+00 1.1820197e-03]\n",
      "iteration 124 accepted 154.42108 [3.0489931e+00 1.1834502e-03]\n",
      "iteration 125 accepted 154.27774 [3.0511587e+00 1.1863112e-03]\n",
      "iteration 126 accepted 154.19835 [3.0508380e+00 1.1751056e-03]\n",
      "iteration 127 accepted 154.11989 [3.0516016e+00 1.1418462e-03]\n",
      "iteration 128 accepted 154.06277 [3.0517907e+00 1.1294484e-03]\n",
      "iteration 129 accepted 153.96082 [3.0533979e+00 1.1085272e-03]\n",
      "iteration 130 accepted 153.8764 [3.0532923e+00 1.1054873e-03]\n",
      "iteration 131 accepted 153.7786 [3.0546229e+00 1.0727644e-03]\n",
      "iteration 132 accepted 153.69252 [3.0542941e+00 1.0735393e-03]\n",
      "iteration 133 accepted 153.63634 [3.0549695e+00 1.0607839e-03]\n",
      "iteration 134 accepted 153.57678 [3.0549316e+00 1.0564923e-03]\n",
      "iteration 135 accepted 153.5184 [3.0557420e+00 1.0475516e-03]\n",
      "iteration 136 accepted 153.46184 [3.0557852e+00 1.0416508e-03]\n",
      "iteration 137 accepted 153.40092 [3.0566161e+00 1.0319948e-03]\n",
      "iteration 138 accepted 153.34612 [3.0567079e+00 1.0255575e-03]\n",
      "iteration 139 accepted 153.28175 [3.0575256e+00 1.0151267e-03]\n",
      "iteration 140 accepted 153.22871 [3.0576563e+00 1.0082126e-03]\n",
      "iteration 141 accepted 153.16049 [3.0584424e+00 9.9766254e-04]\n",
      "iteration 142 accepted 153.10947 [3.0586052e+00 9.9068880e-04]\n"
     ]
    },
    {
     "name": "stdout",
     "output_type": "stream",
     "text": [
      "iteration 143 accepted 153.03479 [3.0599265e+00 9.7912550e-04]\n",
      "iteration 144 accepted 152.9333 [3.0596712e+00 9.8049641e-04]\n",
      "iteration 145 accepted 152.80486 [3.0614188e+00 9.7674131e-04]\n",
      "iteration 146 accepted 152.74208 [3.0612895e+00 9.6631050e-04]\n",
      "iteration 147 accepted 152.63959 [3.0624363e+00 9.2852116e-04]\n",
      "iteration 148 accepted 152.56726 [3.0621192e+00 9.2977285e-04]\n",
      "iteration 149 accepted 152.51091 [3.0627141e+00 9.1946125e-04]\n",
      "iteration 150 accepted 152.45709 [3.062776e+00 9.147525e-04]\n",
      "iteration 151 accepted 152.40022 [3.0634625e+00 9.0664625e-04]\n",
      "iteration 152 accepted 152.354 [3.0636022e+00 9.0122223e-04]\n",
      "iteration 153 accepted 152.29694 [3.0642347e+00 8.9210272e-04]\n",
      "iteration 154 accepted 152.25531 [3.064397e+00 8.867383e-04]\n",
      "iteration 155 accepted 152.19026 [3.0654802e+00 8.7630749e-04]\n",
      "iteration 156 accepted 152.11205 [3.0653863e+00 8.7541342e-04]\n",
      "iteration 157 accepted 152.01634 [3.0665948e+00 8.6295605e-04]\n",
      "iteration 158 accepted 151.9571 [3.0665159e+00 8.5812807e-04]\n",
      "iteration 159 accepted 151.88753 [3.0674367e+00 8.3947182e-04]\n",
      "iteration 160 accepted 151.81107 [3.0670116e+00 8.4447861e-04]\n",
      "iteration 161 accepted 151.76126 [3.0675569e+00 8.3607435e-04]\n",
      "iteration 162 accepted 151.7034 [3.067553e+00 8.329749e-04]\n",
      "iteration 163 accepted 151.64693 [3.0682802e+00 8.2677603e-04]\n",
      "iteration 164 accepted 151.59697 [3.0683911e+00 8.2182884e-04]\n",
      "iteration 165 accepted 151.5358 [3.0690725e+00 8.1360340e-04]\n",
      "iteration 166 accepted 151.49223 [3.0692308e+00 8.0817938e-04]\n",
      "iteration 167 accepted 151.40337 [3.0703790e+00 7.9905987e-04]\n",
      "iteration 168 accepted 151.34074 [3.0699723e+00 8.0162287e-04]\n",
      "iteration 169 accepted 151.29016 [3.0704732e+00 7.9071522e-04]\n",
      "iteration 170 accepted 151.23753 [3.0704522e+00 7.8755617e-04]\n",
      "iteration 171 accepted 151.18466 [3.0711253e+00 7.8052282e-04]\n",
      "iteration 172 accepted 151.14134 [3.0712206e+00 7.7605247e-04]\n",
      "iteration 173 accepted 151.08594 [3.0723119e+00 7.6740980e-04]\n",
      "iteration 174 accepted 151.0095 [3.072145e+00 7.675290e-04]\n",
      "iteration 175 accepted 150.93593 [3.0731726e+00 7.5209141e-04]\n",
      "iteration 176 accepted 150.8715 [3.0730894e+00 7.4911118e-04]\n",
      "iteration 177 accepted 150.81998 [3.0739708e+00 7.3599815e-04]\n",
      "iteration 178 accepted 150.75146 [3.0735602e+00 7.4028969e-04]\n",
      "iteration 179 accepted 150.70735 [3.0738626e+00 7.3540211e-04]\n",
      "iteration 180 accepted 150.62143 [3.0751581e+00 7.3227286e-04]\n",
      "iteration 181 accepted 150.57384 [3.0750520e+00 7.2705746e-04]\n",
      "iteration 182 accepted 150.52457 [3.0754042e+00 7.1448088e-04]\n",
      "iteration 183 accepted 150.48787 [3.0755146e+00 7.1021914e-04]\n",
      "iteration 184 accepted 150.4165 [3.0763168e+00 6.9898367e-04]\n",
      "iteration 185 accepted 150.36005 [3.0762868e+00 6.9808960e-04]\n",
      "iteration 186 accepted 150.2856 [3.0769970e+00 6.8700314e-04]\n",
      "iteration 187 accepted 150.22182 [3.0768661e+00 6.8679452e-04]\n",
      "iteration 188 accepted 150.1772 [3.0772545e+00 6.8131089e-04]\n",
      "iteration 189 accepted 150.12926 [3.0772836e+00 6.7946315e-04]\n",
      "iteration 190 accepted 150.08173 [3.0777500e+00 6.7454576e-04]\n",
      "iteration 191 accepted 150.03944 [3.0778317e+00 6.7213178e-04]\n",
      "iteration 192 accepted 149.99068 [3.0782850e+00 6.6679716e-04]\n",
      "iteration 193 accepted 149.95355 [3.0783913e+00 6.6420436e-04]\n",
      "iteration 194 accepted 149.9006 [3.0791645e+00 6.5720081e-04]\n",
      "iteration 195 accepted 149.83311 [3.0790925e+00 6.5696239e-04]\n",
      "iteration 196 accepted 149.76764 [3.0798807e+00 6.4760447e-04]\n",
      "iteration 197 accepted 149.70975 [3.0797932e+00 6.4635277e-04]\n",
      "iteration 198 accepted 149.66953 [3.0801518e+00 6.4033270e-04]\n",
      "iteration 199 accepted 149.63527 [3.0802307e+00 6.3800812e-04]\n",
      "iteration 200 accepted 149.59308 [3.0805907e+00 6.3309073e-04]\n",
      "\n"
     ]
    }
   ],
   "source": [
    "J_hist = []\n",
    "controller.eval()\n",
    "Z, U = controller.fit(U, encoding=ENCODING, n_iterations=200,\n",
    "                      on_iteration=on_iteration)"
   ]
  },
  {
   "cell_type": "code",
   "execution_count": 13,
   "metadata": {},
   "outputs": [
    {
     "data": {
      "image/png": "[encoded data removed]",
      "text/plain": [
       "<Figure size 432x288 with 1 Axes>"
      ]
     },
     "metadata": {},
     "output_type": "display_data"
    },
    {
     "data": {
      "image/png": "[encoded data removed]",
      "text/plain": [
       "<Figure size 432x288 with 1 Axes>"
      ]
     },
     "metadata": {},
     "output_type": "display_data"
    },
    {
     "data": {
      "image/png": "[encoded data removed]",
      "text/plain": [
       "<Figure size 432x288 with 1 Axes>"
      ]
     },
     "metadata": {},
     "output_type": "display_data"
    },
    {
     "data": {
      "image/png": "[encoded data removed]",
      "text/plain": [
       "<Figure size 432x288 with 1 Axes>"
      ]
     },
     "metadata": {},
     "output_type": "display_data"
    },
    {
     "data": {
      "image/png": "[encoded data removed]",
      "text/plain": [
       "<Figure size 432x288 with 1 Axes>"
      ]
     },
     "metadata": {},
     "output_type": "display_data"
    }
   ],
   "source": [
    "plot(Z, U)"
   ]
  },
  {
   "cell_type": "code",
   "execution_count": 14,
   "metadata": {},
   "outputs": [
    {
     "name": "stdout",
     "output_type": "stream",
     "text": [
      "Press ENTER to continue\n"
     ]
    }
   ],
   "source": [
    "if RENDER:\n",
    "    # Wait for user interaction before visualizing. \n",
    "    _ = input(\"Press ENTER to continue\")"
   ]
  },
  {
   "cell_type": "code",
   "execution_count": 15,
   "metadata": {},
   "outputs": [],
   "source": [
    "for u in U:\n",
    "    env.apply(u)"
   ]
  },
  {
   "cell_type": "code",
   "execution_count": 16,
   "metadata": {},
   "outputs": [],
   "source": [
    "env.close()"
   ]
  }
 ],
 "metadata": {
  "kernelspec": {
   "display_name": "Python 3",
   "language": "python",
   "name": "python3"
  },
  "language_info": {
   "codemirror_mode": {
    "name": "ipython",
    "version": 3
   },
   "file_extension": ".py",
   "mimetype": "text/x-python",
   "name": "python",
   "nbconvert_exporter": "python",
   "pygments_lexer": "ipython3",
   "version": "3.7.0"
  }
 },
 "nbformat": 4,
 "nbformat_minor": 2
}
