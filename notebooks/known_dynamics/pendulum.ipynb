{
 "cells": [
  {
   "cell_type": "markdown",
   "metadata": {},
   "source": [
    "# Pendulum"
   ]
  },
  {
   "cell_type": "markdown",
   "metadata": {},
   "source": [
    "The state and control vectors $\\textbf{x}$ and $\\textbf{u}$ are defined as follows:\n",
    "\n",
    "$$\n",
    "\\begin{equation*}\n",
    "\\textbf{x} = \\begin{bmatrix}\n",
    "    \\theta & \\dot{\\theta}\n",
    "    \\end{bmatrix}\n",
    "\\end{equation*}\n",
    "$$\n",
    "\n",
    "$$\n",
    "\\begin{equation*}\n",
    "\\textbf{u} = \\begin{bmatrix}\n",
    "    \\tau\n",
    "    \\end{bmatrix}\n",
    "\\end{equation*}\n",
    "$$\n",
    "\n",
    "The goal is to swing the pendulum upright:\n",
    "$$\n",
    "\\begin{equation*}\n",
    "\\textbf{x}_{goal} = \\begin{bmatrix}\n",
    "    \\pi & 0\n",
    "    \\end{bmatrix}\n",
    "\\end{equation*}\n",
    "$$\n",
    "\n",
    "**Note**: The force is constrained between $-2.5$ and $2.5$ Nm."
   ]
  },
  {
   "cell_type": "code",
   "execution_count": 1,
   "metadata": {},
   "outputs": [],
   "source": [
    "%matplotlib inline"
   ]
  },
  {
   "cell_type": "code",
   "execution_count": 2,
   "metadata": {},
   "outputs": [],
   "source": [
    "from __future__ import print_function"
   ]
  },
  {
   "cell_type": "code",
   "execution_count": 3,
   "metadata": {},
   "outputs": [],
   "source": [
    "import matplotlib.pyplot as plt"
   ]
  },
  {
   "cell_type": "code",
   "execution_count": 4,
   "metadata": {},
   "outputs": [],
   "source": [
    "import pddp\n",
    "import pddp.examples"
   ]
  },
  {
   "cell_type": "code",
   "execution_count": 5,
   "metadata": {},
   "outputs": [],
   "source": [
    "import torch\n",
    "import numpy as np"
   ]
  },
  {
   "cell_type": "code",
   "execution_count": 6,
   "metadata": {},
   "outputs": [],
   "source": [
    "DT = 0.1  # Time step (s).\n",
    "N = 40  # Horizon length.\n",
    "RENDER = True  # Whether to render the environment or not.\n",
    "\n",
    "# Disable uncertainty since we are dealing with known dynamics.\n",
    "ENCODING = pddp.StateEncoding.IGNORE_UNCERTAINTY"
   ]
  },
  {
   "cell_type": "code",
   "execution_count": 7,
   "metadata": {},
   "outputs": [],
   "source": [
    "cost = pddp.examples.pendulum.PendulumCost()\n",
    "model = pddp.examples.pendulum.PendulumDynamicsModel(DT)\n",
    "env = pddp.examples.pendulum.PendulumEnv(dt=DT, render=RENDER)"
   ]
  },
  {
   "cell_type": "code",
   "execution_count": 8,
   "metadata": {},
   "outputs": [],
   "source": [
    "def plot(Z, U):\n",
    "    t = np.arange(N + 1) * DT\n",
    "    X = pddp.utils.encoding.decode_mean(Z, ENCODING).detach().numpy()\n",
    "    U = model.constrain(U).detach().numpy()\n",
    "\n",
    "    theta = np.unwrap(X[:, 0])  # Makes for smoother plots.\n",
    "    theta_dot = X[:, 1]\n",
    "    \n",
    "    plt.figure()\n",
    "    plt.plot(theta, theta_dot)\n",
    "    plt.xlabel(\"Orientation (rad)\")\n",
    "    plt.ylabel(\"Angular velocity (rad/s)\")\n",
    "    plt.title(\"Orientation Phase Plot\")\n",
    "\n",
    "    plt.figure()\n",
    "    plt.plot(t, theta)\n",
    "    plt.xlabel(\"Time (s)\")\n",
    "    plt.ylabel(\"Orientation (rad)\")\n",
    "    plt.title(\"Orientation path\")\n",
    "\n",
    "    plt.figure()\n",
    "    plt.plot(t, theta_dot)\n",
    "    plt.xlabel(\"Time (s)\")\n",
    "    plt.ylabel(\"Angular velocity (rad / s)\")\n",
    "    plt.title(\"Angular velocity path\")\n",
    "    \n",
    "    plt.figure()\n",
    "    plt.plot(t[:-1], U)\n",
    "    plt.xlabel(\"Time (s)\")\n",
    "    plt.ylabel(\"Torque (N m)\")\n",
    "    plt.title(\"Constrained action path\")\n",
    "    \n",
    "    plt.figure()\n",
    "    plt.plot(J_hist)\n",
    "    plt.xlabel(\"Iteration\")\n",
    "    plt.ylabel(\"Total loss\")\n",
    "    plt.title(\"Loss path\")"
   ]
  },
  {
   "cell_type": "code",
   "execution_count": 9,
   "metadata": {},
   "outputs": [],
   "source": [
    "def on_iteration(iteration, Z, U, J_opt, accepted, converged):\n",
    "    J_opt = J_opt.detach().numpy()\n",
    "\n",
    "    J_hist.append(J_opt)\n",
    "    info = \"CONVERGED\" if converged else (\"accepted\" if accepted else \"FAILED\")\n",
    "    final_state = Z[-1].detach().numpy()\n",
    "    final_state[0] = (final_state[0] + np.pi) % (2 * np.pi) - np.pi\n",
    "    print(\"iteration\", iteration + 1, info, J_opt, final_state)"
   ]
  },
  {
   "cell_type": "code",
   "execution_count": 10,
   "metadata": {},
   "outputs": [],
   "source": [
    "controller = pddp.controllers.PDDPController(env, model, cost)"
   ]
  },
  {
   "cell_type": "code",
   "execution_count": 11,
   "metadata": {},
   "outputs": [],
   "source": [
    "U = torch.randn(N, model.action_size)"
   ]
  },
  {
   "cell_type": "code",
   "execution_count": 12,
   "metadata": {
    "scrolled": false
   },
   "outputs": [
    {
     "data": {
      "application/vnd.jupyter.widget-view+json": {
       "model_id": "0ce766cfa6484bbcbbab3f79b9415410",
       "version_major": 2,
       "version_minor": 0
      },
      "text/plain": [
       "HBox(children=(IntProgress(value=0, description='PDDP', max=200), HTML(value='')))"
      ]
     },
     "metadata": {},
     "output_type": "display_data"
    },
    {
     "name": "stdout",
     "output_type": "stream",
     "text": [
      "iteration 1 accepted 669.5061 [-1.3764771 -1.5542789]\n",
      "iteration 2 accepted 603.97784 [-1.2613161  1.282528 ]\n",
      "iteration 10 accepted 391.96198 [-2.1392992  -0.05157506]\n",
      "iteration 11 accepted 356.6227 [-2.1906314  0.0096103]\n",
      "iteration 12 accepted 322.8944 [-2.208011   -0.01620853]\n",
      "iteration 13 accepted 302.49026 [-2.238293   -0.12893331]\n",
      "iteration 14 accepted 261.58054 [-2.4301183  -0.42872763]\n",
      "iteration 15 accepted 226.55815 [-2.631684   -0.29997158]\n",
      "iteration 16 accepted 222.37561 [-2.6304884 -0.296152 ]\n",
      "iteration 17 accepted 207.24506 [-2.6607907  -0.24012303]\n",
      "iteration 18 accepted 203.58507 [-2.6505518  -0.21714365]\n",
      "iteration 19 accepted 193.09819 [-2.663871   -0.12811255]\n",
      "iteration 20 accepted 191.0907 [-2.6589017  -0.09614074]\n",
      "iteration 21 accepted 187.79272 [-2.689423  -0.0490799]\n",
      "iteration 22 accepted 186.51562 [-2.6969852  -0.03721619]\n",
      "iteration 23 accepted 184.77065 [-2.7233791 -0.0194633]\n",
      "iteration 24 accepted 183.40479 [-2.7355504  -0.01025546]\n",
      "iteration 25 accepted 181.96318 [-2.7394469  -0.01029658]\n",
      "iteration 26 accepted 181.25117 [-2.742941   -0.00919425]\n",
      "iteration 27 accepted 179.10294 [-2.818301   -0.01573217]\n",
      "iteration 28 accepted 178.38954 [-2.814028   -0.01209784]\n",
      "iteration 29 accepted 176.98561 [-2.8322349  -0.00314641]\n",
      "iteration 30 accepted 176.21185 [-2.82425    -0.00289762]\n",
      "iteration 31 accepted 175.04533 [-2.8558831e+00 -1.9382834e-03]\n",
      "iteration 32 accepted 174.3305 [-2.8512387e+00 -1.8472075e-03]\n",
      "iteration 33 accepted 173.34192 [-2.8749170e+00 -1.7952919e-03]\n",
      "iteration 34 accepted 172.74896 [-2.8715076e+00 -1.6609430e-03]\n",
      "iteration 35 accepted 172.10594 [-2.8827269e+00 -2.0385385e-03]\n",
      "iteration 36 accepted 171.48451 [-2.8788278e+00 -1.9838214e-03]\n",
      "iteration 37 accepted 171.13927 [-2.8796084e+00 -1.7858148e-03]\n",
      "iteration 38 accepted 170.60786 [-2.889650e+00 -1.516819e-03]\n",
      "iteration 39 accepted 170.31212 [-2.8902755e+00 -1.4800429e-03]\n",
      "iteration 40 accepted 169.81313 [-2.8981311e+00 -1.3551116e-03]\n",
      "iteration 41 accepted 169.53528 [-2.8983822e+00 -1.3422370e-03]\n",
      "iteration 42 accepted 169.06615 [-2.9051068e+00 -1.2879968e-03]\n",
      "iteration 43 accepted 168.81123 [-2.905209e+00 -1.295805e-03]\n",
      "iteration 44 accepted 168.37097 [-2.9116039e+00 -1.2753606e-03]\n",
      "iteration 45 accepted 168.13292 [-2.9117222e+00 -1.2992024e-03]\n",
      "iteration 46 accepted 167.7305 [-2.9180250e+00 -1.2934804e-03]\n",
      "iteration 47 accepted 167.49995 [-2.9195952e+00 -1.3249516e-03]\n",
      "iteration 48 accepted 166.7712 [-2.9437792e+00 -2.4033785e-03]\n",
      "iteration 49 accepted 166.47224 [-2.9378245e+00 -2.8067827e-03]\n",
      "iteration 50 accepted 166.18796 [-2.9381905e+00 -2.7604103e-03]\n",
      "iteration 51 accepted 165.85214 [-2.9439108e+00 -2.1988750e-03]\n",
      "iteration 52 accepted 165.65431 [-2.9442358e+00 -2.1203160e-03]\n",
      "iteration 53 accepted 165.3428 [-2.9485714e+00 -1.8670559e-03]\n",
      "iteration 54 accepted 165.16605 [-2.9483254e+00 -1.8207431e-03]\n",
      "iteration 55 accepted 164.87335 [-2.9517927e+00 -1.7167330e-03]\n",
      "iteration 56 accepted 164.68777 [-2.9526377e+00 -1.7126203e-03]\n",
      "iteration 57 accepted 164.16277 [-2.9678171e+00 -1.6940236e-03]\n",
      "iteration 58 accepted 163.95738 [-2.9663641e+00 -2.0572543e-03]\n",
      "iteration 59 accepted 163.59854 [-2.9721298e+00 -1.8845201e-03]\n",
      "iteration 60 accepted 163.3581 [-2.9712331e+00 -1.8953681e-03]\n",
      "iteration 61 accepted 163.0009 [-2.9771032e+00 -1.9952059e-03]\n",
      "iteration 62 accepted 162.78654 [-2.973523e+00 -2.094686e-03]\n",
      "iteration 63 accepted 162.56732 [-2.9756861e+00 -1.9826293e-03]\n",
      "iteration 64 accepted 162.39687 [-2.9758966e+00 -1.9667745e-03]\n",
      "iteration 65 accepted 162.01823 [-2.986912e+00 -1.962483e-03]\n",
      "iteration 66 accepted 161.84221 [-2.9850023e+00 -2.2487044e-03]\n",
      "iteration 67 accepted 161.65302 [-2.9871514e+00 -2.0694137e-03]\n",
      "iteration 68 accepted 161.51309 [-2.9874387e+00 -2.0329952e-03]\n",
      "iteration 69 accepted 161.32758 [-2.9904654e+00 -1.9601583e-03]\n",
      "iteration 70 accepted 161.20222 [-2.9910891e+00 -1.9491315e-03]\n",
      "iteration 71 accepted 160.962 [-2.9963875e+00 -1.8769503e-03]\n",
      "iteration 72 accepted 160.7617 [-2.9955759e+00 -1.9058585e-03]\n",
      "iteration 73 accepted 160.43939 [-3.0011041e+00 -1.9156933e-03]\n",
      "iteration 74 accepted 160.28957 [-3.0007210e+00 -1.9449592e-03]\n",
      "iteration 75 accepted 160.06653 [-3.0042048e+00 -1.8528104e-03]\n",
      "iteration 76 accepted 159.8829 [-3.0035529e+00 -1.8710494e-03]\n",
      "iteration 77 accepted 159.69313 [-3.0073590e+00 -1.9070506e-03]\n",
      "iteration 78 accepted 159.49622 [-3.0067165e+00 -1.9185543e-03]\n",
      "iteration 79 accepted 159.35191 [-3.0087316e+00 -1.8585324e-03]\n",
      "iteration 80 accepted 159.25195 [-3.0092337e+00 -1.8419623e-03]\n",
      "iteration 81 accepted 159.06837 [-3.0131214e+00 -1.8056631e-03]\n",
      "iteration 82 accepted 158.90785 [-3.0126724e+00 -1.8150210e-03]\n",
      "iteration 83 accepted 158.72102 [-3.0162122e+00 -1.7712116e-03]\n",
      "iteration 84 accepted 158.57849 [-3.015880e+00 -1.775682e-03]\n",
      "iteration 85 accepted 158.41595 [-3.018731e+00 -1.719594e-03]\n",
      "iteration 86 accepted 158.2531 [-3.0182407e+00 -1.7299056e-03]\n",
      "iteration 87 accepted 158.1204 [-3.0198538e+00 -1.7128587e-03]\n",
      "iteration 88 accepted 158.0277 [-3.0202286e+00 -1.6983747e-03]\n",
      "iteration 89 accepted 157.89613 [-3.0229850e+00 -1.6704202e-03]\n",
      "iteration 90 accepted 157.71393 [-3.0221434e+00 -1.6922355e-03]\n",
      "iteration 91 accepted 157.52214 [-3.0260587e+00 -1.7640591e-03]\n",
      "iteration 92 accepted 157.39949 [-3.0248194e+00 -1.7868876e-03]\n",
      "iteration 93 accepted 157.29472 [-3.026332e+00 -1.688838e-03]\n",
      "iteration 94 accepted 157.20895 [-3.0265458e+00 -1.6562939e-03]\n",
      "iteration 95 accepted 157.10378 [-3.0282404e+00 -1.6115308e-03]\n",
      "iteration 96 accepted 157.0296 [-3.0286114e+00 -1.5874505e-03]\n",
      "iteration 97 accepted 156.89905 [-3.031407e+00 -1.543045e-03]\n",
      "iteration 98 accepted 156.77065 [-3.031054e+00 -1.544714e-03]\n",
      "iteration 99 accepted 156.59007 [-3.0339394e+00 -1.5224218e-03]\n",
      "iteration 100 accepted 156.49284 [-3.0336599e+00 -1.5103817e-03]\n",
      "iteration 101 accepted 156.39134 [-3.0346344e+00 -1.4685392e-03]\n",
      "iteration 102 accepted 156.3139 [-3.0348518e+00 -1.4540553e-03]\n",
      "iteration 103 accepted 156.20929 [-3.0360098e+00 -1.4331937e-03]\n",
      "iteration 104 accepted 156.13669 [-3.0362966e+00 -1.4201999e-03]\n",
      "iteration 105 accepted 156.02048 [-3.0383525e+00 -1.3999939e-03]\n",
      "iteration 106 accepted 155.88635 [-3.0379760e+00 -1.4035106e-03]\n",
      "iteration 107 accepted 155.71695 [-3.0407374e+00 -1.4172196e-03]\n",
      "iteration 108 accepted 155.63104 [-3.0402918e+00 -1.4044046e-03]\n",
      "iteration 109 accepted 155.54584 [-3.0412302e+00 -1.3546944e-03]\n",
      "iteration 110 accepted 155.48172 [-3.0414057e+00 -1.3381243e-03]\n",
      "iteration 111 accepted 155.39021 [-3.0433156e+00 -1.3073087e-03]\n",
      "iteration 112 accepted 155.26979 [-3.0429666e+00 -1.3094544e-03]\n",
      "iteration 113 accepted 155.14735 [-3.0451765e+00 -1.2947917e-03]\n",
      "iteration 114 accepted 155.06076 [-3.0445268e+00 -1.2976527e-03]\n",
      "iteration 115 accepted 154.9929 [-3.0452466e+00 -1.2629032e-03]\n",
      "iteration 116 accepted 154.91895 [-3.0451412e+00 -1.2550950e-03]\n",
      "iteration 117 accepted 154.8461 [-3.0461941e+00 -1.2408495e-03]\n",
      "iteration 118 accepted 154.7742 [-3.0462220e+00 -1.2313724e-03]\n",
      "iteration 119 accepted 154.69716 [-3.0473480e+00 -1.2184381e-03]\n",
      "iteration 120 accepted 154.62776 [-3.0474577e+00 -1.2077689e-03]\n",
      "iteration 121 accepted 154.54735 [-3.0485704e+00 -1.1935234e-03]\n",
      "iteration 122 accepted 154.48177 [-3.0487361e+00 -1.1825562e-03]\n",
      "iteration 123 accepted 154.39955 [-3.0497870e+00 -1.1675358e-03]\n",
      "iteration 124 accepted 154.33931 [-3.0499911e+00 -1.1568666e-03]\n",
      "iteration 125 accepted 154.25726 [-3.0509539e+00 -1.1418462e-03]\n",
      "iteration 126 accepted 154.2011 [-3.0511723e+00 -1.1250377e-03]\n",
      "iteration 127 accepted 154.11569 [-3.0514638e+00 -1.1184216e-03]\n",
      "iteration 128 accepted 153.98218 [-3.0536783e+00 -1.1445880e-03]\n",
      "iteration 129 accepted 153.91559 [-3.0534170e+00 -1.1304021e-03]\n",
      "iteration 130 accepted 153.84755 [-3.0540750e+00 -1.0948777e-03]\n",
      "iteration 131 accepted 153.79758 [-3.0542495e+00 -1.0831356e-03]\n",
      "iteration 132 accepted 153.7159 [-3.0556145e+00 -1.0575056e-03]\n",
      "iteration 133 accepted 153.62846 [-3.0554740e+00 -1.0563731e-03]\n",
      "iteration 134 accepted 153.52832 [-3.0569332e+00 -1.0393858e-03]\n",
      "iteration 135 accepted 153.45007 [-3.0566640e+00 -1.0362864e-03]\n",
      "iteration 136 accepted 153.38824 [-3.0573142e+00 -1.0200739e-03]\n",
      "iteration 137 accepted 153.33218 [-3.0573950e+00 -1.0136962e-03]\n",
      "iteration 138 accepted 153.26419 [-3.0581763e+00 -1.0032058e-03]\n",
      "iteration 139 accepted 153.21376 [-3.058348e+00 -9.960532e-04]\n",
      "iteration 140 accepted 153.11977 [-3.0597565e+00 -9.8663568e-04]\n"
     ]
    },
    {
     "name": "stdout",
     "output_type": "stream",
     "text": [
      "iteration 141 accepted 153.04126 [-3.0596282e+00 -9.8466873e-04]\n",
      "iteration 142 accepted 152.93013 [-3.060927e+00 -9.611249e-04]\n",
      "iteration 143 accepted 152.85298 [-3.0608172e+00 -9.5635653e-04]\n",
      "iteration 144 accepted 152.78746 [-3.0614295e+00 -9.4342232e-04]\n",
      "iteration 145 accepted 152.7367 [-3.0615711e+00 -9.3740225e-04]\n",
      "iteration 146 accepted 152.66803 [-3.0627322e+00 -9.2577934e-04]\n",
      "iteration 147 accepted 152.57484 [-3.0626066e+00 -9.2500448e-04]\n",
      "iteration 148 accepted 152.5006 [-3.0638478e+00 -9.1004372e-04]\n",
      "iteration 149 accepted 152.42061 [-3.0634041e+00 -9.1314316e-04]\n",
      "iteration 150 accepted 152.37183 [-3.0637784e+00 -9.0515614e-04]\n",
      "iteration 151 accepted 152.26997 [-3.0653758e+00 -9.0169907e-04]\n",
      "iteration 152 accepted 152.21683 [-3.0652671e+00 -8.9275837e-04]\n",
      "iteration 153 accepted 152.1624 [-3.0657053e+00 -8.7332726e-04]\n",
      "iteration 154 accepted 152.12161 [-3.0658431e+00 -8.6688995e-04]\n",
      "iteration 155 accepted 152.04933 [-3.0668325e+00 -8.5127354e-04]\n",
      "iteration 156 accepted 151.98149 [-3.0667791e+00 -8.4996223e-04]\n",
      "iteration 157 accepted 151.90396 [-3.0677357e+00 -8.3583593e-04]\n",
      "iteration 158 accepted 151.83286 [-3.0674632e+00 -8.3678961e-04]\n",
      "iteration 159 accepted 151.78566 [-3.0679536e+00 -8.2820654e-04]\n",
      "iteration 160 accepted 151.73048 [-3.0678954e+00 -8.2629919e-04]\n",
      "iteration 161 accepted 151.67996 [-3.068512e+00 -8.199215e-04]\n",
      "iteration 162 accepted 151.62692 [-3.0685110e+00 -8.1700087e-04]\n",
      "iteration 163 accepted 151.57504 [-3.0691426e+00 -8.1020594e-04]\n",
      "iteration 164 accepted 151.52364 [-3.0691698e+00 -8.0680847e-04]\n",
      "iteration 165 accepted 151.47168 [-3.069790e+00 -7.996559e-04]\n",
      "iteration 166 accepted 151.42244 [-3.0698359e+00 -7.9613924e-04]\n",
      "iteration 167 accepted 151.37115 [-3.0704334e+00 -7.8892708e-04]\n",
      "iteration 168 accepted 151.32472 [-3.0704963e+00 -7.8541040e-04]\n",
      "iteration 169 accepted 151.2745 [-3.0710642e+00 -7.7825785e-04]\n",
      "iteration 170 accepted 151.2312 [-3.071143e+00 -7.748008e-04]\n",
      "iteration 171 accepted 151.18182 [-3.0716786e+00 -7.6776743e-04]\n",
      "iteration 172 accepted 151.14185 [-3.0717716e+00 -7.6436996e-04]\n",
      "iteration 173 accepted 151.09286 [-3.0722733e+00 -7.5775385e-04]\n",
      "iteration 174 accepted 151.056 [-3.0723796e+00 -7.5441599e-04]\n",
      "iteration 175 accepted 151.00702 [-3.0728478e+00 -7.4815750e-04]\n",
      "iteration 176 accepted 150.97282 [-3.0729654e+00 -7.4493885e-04]\n",
      "iteration 177 accepted 150.91212 [-3.0737991e+00 -7.3724985e-04]\n",
      "iteration 178 accepted 150.85127 [-3.0737174e+00 -7.3695183e-04]\n",
      "iteration 179 accepted 150.7659 [-3.074650e+00 -7.272959e-04]\n",
      "iteration 180 accepted 150.71866 [-3.0746262e+00 -7.2407722e-04]\n",
      "iteration 181 accepted 150.64946 [-3.0753574e+00 -7.1161985e-04]\n",
      "iteration 182 accepted 150.58926 [-3.075186e+00 -7.119179e-04]\n",
      "iteration 183 accepted 150.54526 [-3.0755925e+00 -7.0607662e-04]\n",
      "iteration 184 accepted 150.49968 [-3.0756526e+00 -7.0375204e-04]\n",
      "iteration 185 accepted 150.45078 [-3.0761261e+00 -6.9853663e-04]\n",
      "iteration 186 accepted 150.40991 [-3.0762355e+00 -6.9567561e-04]\n",
      "iteration 187 accepted 150.35767 [-3.0766873e+00 -6.9007277e-04]\n",
      "iteration 188 accepted 150.31993 [-3.0768144e+00 -6.8712234e-04]\n",
      "iteration 189 accepted 150.25468 [-3.0776114e+00 -6.8002939e-04]\n",
      "iteration 190 accepted 150.18971 [-3.0775468e+00 -6.7955256e-04]\n",
      "iteration 191 accepted 150.10542 [-3.0784113e+00 -6.7025423e-04]\n",
      "iteration 192 accepted 150.05118 [-3.0783372e+00 -6.6828728e-04]\n",
      "iteration 193 accepted 150.00342 [-3.0787122e+00 -6.6143274e-04]\n",
      "iteration 194 accepted 149.9691 [-3.0787995e+00 -6.5875053e-04]\n",
      "iteration 195 accepted 149.89946 [-3.0795557e+00 -6.5156817e-04]\n",
      "iteration 196 accepted 149.85052 [-3.0793383e+00 -6.5246224e-04]\n",
      "iteration 197 accepted 149.81435 [-3.079682e+00 -6.466508e-04]\n",
      "iteration 198 accepted 149.7737 [-3.0796714e+00 -6.4533949e-04]\n",
      "iteration 199 accepted 149.735 [-3.0801175e+00 -6.4063072e-04]\n",
      "iteration 200 accepted 149.69968 [-3.0801678e+00 -6.3857436e-04]\n",
      "\n"
     ]
    }
   ],
   "source": [
    "J_hist = []\n",
    "controller.eval()\n",
    "Z, U = controller.fit(U, encoding=ENCODING, n_iterations=200,\n",
    "                      on_iteration=on_iteration)"
   ]
  },
  {
   "cell_type": "code",
   "execution_count": 13,
   "metadata": {},
   "outputs": [
    {
     "data": {
      "image/png": "[encoded data removed]",
      "text/plain": [
       "<Figure size 432x288 with 1 Axes>"
      ]
     },
     "metadata": {},
     "output_type": "display_data"
    },
    {
     "data": {
      "image/png": "[encoded data removed]",
      "text/plain": [
       "<Figure size 432x288 with 1 Axes>"
      ]
     },
     "metadata": {},
     "output_type": "display_data"
    },
    {
     "data": {
      "image/png": "[encoded data removed]",
      "text/plain": [
       "<Figure size 432x288 with 1 Axes>"
      ]
     },
     "metadata": {},
     "output_type": "display_data"
    },
    {
     "data": {
      "image/png": "[encoded data removed]",
      "text/plain": [
       "<Figure size 432x288 with 1 Axes>"
      ]
     },
     "metadata": {},
     "output_type": "display_data"
    },
    {
     "data": {
      "image/png": "[encoded data removed]",
      "text/plain": [
       "<Figure size 432x288 with 1 Axes>"
      ]
     },
     "metadata": {},
     "output_type": "display_data"
    }
   ],
   "source": [
    "plot(Z, U)"
   ]
  },
  {
   "cell_type": "code",
   "execution_count": 14,
   "metadata": {},
   "outputs": [
    {
     "name": "stdout",
     "output_type": "stream",
     "text": [
      "Press ENTER to continue\n"
     ]
    }
   ],
   "source": [
    "if RENDER:\n",
    "    # Wait for user interaction before visualizing. \n",
    "    _ = input(\"Press ENTER to continue\")"
   ]
  },
  {
   "cell_type": "code",
   "execution_count": 15,
   "metadata": {},
   "outputs": [],
   "source": [
    "for u in U:\n",
    "    env.apply(u)"
   ]
  },
  {
   "cell_type": "code",
   "execution_count": 16,
   "metadata": {},
   "outputs": [],
   "source": [
    "env.close()"
   ]
  }
 ],
 "metadata": {
  "kernelspec": {
   "display_name": "Python 3",
   "language": "python",
   "name": "python3"
  },
  "language_info": {
   "codemirror_mode": {
    "name": "ipython",
    "version": 3
   },
   "file_extension": ".py",
   "mimetype": "text/x-python",
   "name": "python",
   "nbconvert_exporter": "python",
   "pygments_lexer": "ipython3",
   "version": "3.7.0"
  }
 },
 "nbformat": 4,
 "nbformat_minor": 2
}
