{
 "cells": [
  {
   "cell_type": "markdown",
   "metadata": {},
   "source": [
    "# Pendulum"
   ]
  },
  {
   "cell_type": "markdown",
   "metadata": {},
   "source": [
    "The state and control vectors $\\textbf{x}$ and $\\textbf{u}$ are defined as follows:\n",
    "\n",
    "$$\n",
    "\\begin{equation*}\n",
    "\\textbf{x} = \\begin{bmatrix}\n",
    "    \\theta & \\dot{\\theta}\n",
    "    \\end{bmatrix}\n",
    "\\end{equation*}\n",
    "$$\n",
    "\n",
    "$$\n",
    "\\begin{equation*}\n",
    "\\textbf{u} = \\begin{bmatrix}\n",
    "    \\tau\n",
    "    \\end{bmatrix}\n",
    "\\end{equation*}\n",
    "$$\n",
    "\n",
    "The goal is to swing the pendulum upright:\n",
    "$$\n",
    "\\begin{equation*}\n",
    "\\textbf{x}_{goal} = \\begin{bmatrix}\n",
    "    \\pi & 0\n",
    "    \\end{bmatrix}\n",
    "\\end{equation*}\n",
    "$$\n",
    "\n",
    "**Note**: The force is constrained between $-2.5$ and $2.5$ Nm."
   ]
  },
  {
   "cell_type": "code",
   "execution_count": 1,
   "metadata": {},
   "outputs": [],
   "source": [
    "%matplotlib inline"
   ]
  },
  {
   "cell_type": "code",
   "execution_count": 2,
   "metadata": {},
   "outputs": [],
   "source": [
    "from __future__ import print_function"
   ]
  },
  {
   "cell_type": "code",
   "execution_count": 3,
   "metadata": {},
   "outputs": [],
   "source": [
    "import matplotlib.pyplot as plt"
   ]
  },
  {
   "cell_type": "code",
   "execution_count": 4,
   "metadata": {},
   "outputs": [],
   "source": [
    "import pddp\n",
    "import pddp.examples"
   ]
  },
  {
   "cell_type": "code",
   "execution_count": 5,
   "metadata": {},
   "outputs": [],
   "source": [
    "import torch\n",
    "import numpy as np"
   ]
  },
  {
   "cell_type": "code",
   "execution_count": 6,
   "metadata": {},
   "outputs": [],
   "source": [
    "DT = 0.1  # Time step (s).\n",
    "N = 40  # Horizon length.\n",
    "RENDER = True  # Whether to render the environment or not.\n",
    "\n",
    "# Disable uncertainty since we are dealing with known dynamics.\n",
    "ENCODING = pddp.StateEncoding.IGNORE_UNCERTAINTY"
   ]
  },
  {
   "cell_type": "code",
   "execution_count": 7,
   "metadata": {},
   "outputs": [],
   "source": [
    "cost = pddp.examples.pendulum.PendulumCost()\n",
    "model = pddp.examples.pendulum.PendulumDynamicsModel(DT)\n",
    "env = pddp.examples.pendulum.PendulumEnv(dt=DT, render=RENDER)"
   ]
  },
  {
   "cell_type": "code",
   "execution_count": 8,
   "metadata": {},
   "outputs": [],
   "source": [
    "def plot(Z, U):\n",
    "    t = np.arange(N + 1) * DT\n",
    "    X = pddp.utils.encoding.decode_mean(Z, ENCODING).detach().numpy()\n",
    "    U = model.constrain(U).detach().numpy()\n",
    "\n",
    "    theta = np.unwrap(X[:, 0])  # Makes for smoother plots.\n",
    "    theta_dot = X[:, 1]\n",
    "    \n",
    "    plt.figure()\n",
    "    plt.plot(theta, theta_dot)\n",
    "    plt.xlabel(\"Orientation (rad)\")\n",
    "    plt.ylabel(\"Angular velocity (rad/s)\")\n",
    "    plt.title(\"Orientation Phase Plot\")\n",
    "\n",
    "    plt.figure()\n",
    "    plt.plot(t, theta)\n",
    "    plt.xlabel(\"Time (s)\")\n",
    "    plt.ylabel(\"Orientation (rad)\")\n",
    "    plt.title(\"Orientation path\")\n",
    "\n",
    "    plt.figure()\n",
    "    plt.plot(t, theta_dot)\n",
    "    plt.xlabel(\"Time (s)\")\n",
    "    plt.ylabel(\"Angular velocity (rad / s)\")\n",
    "    plt.title(\"Angular velocity path\")\n",
    "    \n",
    "    plt.figure()\n",
    "    plt.plot(t[:-1], U)\n",
    "    plt.xlabel(\"Time (s)\")\n",
    "    plt.ylabel(\"Torque (N m)\")\n",
    "    plt.title(\"Constrained action path\")\n",
    "    \n",
    "    plt.figure()\n",
    "    plt.plot(J_hist)\n",
    "    plt.xlabel(\"Iteration\")\n",
    "    plt.ylabel(\"Total loss\")\n",
    "    plt.title(\"Loss path\")"
   ]
  },
  {
   "cell_type": "code",
   "execution_count": 9,
   "metadata": {},
   "outputs": [],
   "source": [
    "def on_iteration(iteration, Z, U, J_opt, accepted, converged):\n",
    "    J_opt = J_opt.detach().numpy()\n",
    "\n",
    "    J_hist.append(J_opt)\n",
    "    info = \"CONVERGED\" if converged else (\"accepted\" if accepted else \"FAILED\")\n",
    "    final_state = Z[-1].detach().numpy()\n",
    "    final_state[0] = (final_state[0] + np.pi) % (2 * np.pi) - np.pi\n",
    "    print(\"iteration\", iteration + 1, info, J_opt, final_state)"
   ]
  },
  {
   "cell_type": "code",
   "execution_count": 10,
   "metadata": {},
   "outputs": [],
   "source": [
    "controller = pddp.controllers.PDDPController(env, model, cost)"
   ]
  },
  {
   "cell_type": "code",
   "execution_count": 11,
   "metadata": {},
   "outputs": [],
   "source": [
    "U = torch.randn(N, model.action_size)"
   ]
  },
  {
   "cell_type": "code",
   "execution_count": 12,
   "metadata": {
    "scrolled": false
   },
   "outputs": [
    {
     "data": {
      "application/vnd.jupyter.widget-view+json": {
       "model_id": "24021ec5f9fa452789555aa5eec324b2",
       "version_major": 2,
       "version_minor": 0
      },
      "text/plain": [
       "HBox(children=(IntProgress(value=0, description='PDDP', max=200), HTML(value='')))"
      ]
     },
     "metadata": {},
     "output_type": "display_data"
    },
    {
     "name": "stdout",
     "output_type": "stream",
     "text": [
      "iteration 8 accepted 458.9555 [0.28917432 0.3795962 ]\n",
      "iteration 9 accepted 442.54102 [0.35850745 0.08300023]\n",
      "iteration 10 accepted 415.25653 [0.8773578 0.1651631]\n",
      "iteration 11 accepted 393.69678 [1.2656474  0.28007627]\n",
      "iteration 12 accepted 349.47626 [1.7431207  0.39934623]\n",
      "iteration 13 accepted 270.2918 [2.0288038  0.34150195]\n",
      "iteration 14 accepted 227.58267 [2.337701   0.25743747]\n",
      "iteration 15 accepted 211.43019 [2.4245105  0.13696861]\n",
      "iteration 16 accepted 206.52583 [2.4386785  0.10395133]\n",
      "iteration 17 accepted 199.37112 [2.5170107  0.05677259]\n",
      "iteration 18 accepted 197.62497 [2.5295208  0.04997277]\n",
      "iteration 19 accepted 191.36653 [2.7066762  0.07129109]\n",
      "iteration 20 accepted 189.39551 [2.6821196 0.0587256]\n",
      "iteration 21 accepted 187.91481 [2.6679587 0.0532341]\n",
      "iteration 22 accepted 185.801 [2.6865823  0.02722001]\n",
      "iteration 23 accepted 185.04178 [2.6910262  0.02389121]\n",
      "iteration 24 accepted 181.99226 [2.7907858  0.02120578]\n",
      "iteration 25 accepted 181.05772 [2.772982   0.01697397]\n",
      "iteration 26 accepted 179.95068 [2.7752018  0.01432884]\n",
      "iteration 27 accepted 179.3023 [2.7769358  0.01275539]\n",
      "iteration 28 accepted 177.50974 [2.8316984  0.01180589]\n",
      "iteration 29 accepted 176.55139 [2.8303053  0.00675321]\n",
      "iteration 30 accepted 176.05855 [2.8295157  0.00583887]\n",
      "iteration 31 accepted 175.27737 [2.837634   0.00354391]\n",
      "iteration 32 accepted 174.84561 [2.835991   0.00292516]\n",
      "iteration 33 accepted 174.148 [2.8439386e+00 2.0492077e-03]\n",
      "iteration 34 accepted 173.74512 [2.8453786e+00 1.9275546e-03]\n",
      "iteration 35 accepted 172.6248 [2.8837872  0.00443602]\n",
      "iteration 36 accepted 172.14488 [2.879997   0.00383991]\n",
      "iteration 37 accepted 171.43423 [2.8914244e+00 2.2367835e-03]\n",
      "iteration 38 accepted 170.76585 [2.8851240e+00 2.1515489e-03]\n",
      "iteration 39 accepted 169.88171 [2.9106741e+00 1.8237233e-03]\n",
      "iteration 40 accepted 169.48944 [2.9067154e+00 2.0363331e-03]\n",
      "iteration 41 accepted 169.03247 [2.9117830e+00 1.7120838e-03]\n",
      "iteration 42 accepted 168.75594 [2.9120810e+00 1.6365051e-03]\n",
      "iteration 43 accepted 168.32773 [2.9177392e+00 1.5095472e-03]\n",
      "iteration 44 accepted 168.07649 [2.9179950e+00 1.4956594e-03]\n",
      "iteration 45 accepted 167.68797 [2.9234262e+00 1.4480352e-03]\n",
      "iteration 46 accepted 167.45268 [2.9233525e+00 1.4546514e-03]\n",
      "iteration 47 accepted 167.09543 [2.9285581e+00 1.4352798e-03]\n",
      "iteration 48 accepted 166.86922 [2.9281204e+00 1.4520884e-03]\n",
      "iteration 49 accepted 166.52916 [2.9331999e+00 1.4417768e-03]\n",
      "iteration 50 accepted 166.30989 [2.9341738e+00 1.4614463e-03]\n",
      "iteration 51 accepted 165.68532 [2.9533207e+00 1.9053817e-03]\n",
      "iteration 52 accepted 165.44475 [2.9521108e+00 2.1897554e-03]\n",
      "iteration 53 accepted 164.95741 [2.9591751e+00 1.8075705e-03]\n",
      "iteration 54 accepted 164.71184 [2.9543774e+00 1.8182397e-03]\n",
      "iteration 55 accepted 164.4412 [2.9565406e+00 2.1040440e-03]\n",
      "iteration 56 accepted 164.2426 [2.956220e+00 2.036035e-03]\n",
      "iteration 57 accepted 163.98885 [2.9613726e+00 1.8547177e-03]\n",
      "iteration 58 accepted 163.80667 [2.9618254e+00 1.8774271e-03]\n",
      "iteration 59 accepted 163.56108 [2.9668465e+00 1.8011928e-03]\n",
      "iteration 60 accepted 163.38785 [2.9674237e+00 1.8365383e-03]\n",
      "iteration 61 accepted 163.14572 [2.9718814e+00 1.8056035e-03]\n",
      "iteration 62 accepted 162.97903 [2.9724762e+00 1.8388629e-03]\n",
      "iteration 63 accepted 162.74121 [2.9764230e+00 1.8258095e-03]\n",
      "iteration 64 accepted 162.58392 [2.9770362e+00 1.8532276e-03]\n",
      "iteration 65 accepted 162.35486 [2.9805675e+00 1.8472672e-03]\n",
      "iteration 66 accepted 162.19933 [2.9806402e+00 1.9357800e-03]\n",
      "iteration 67 accepted 161.97514 [2.9815626e+00 1.9239783e-03]\n",
      "iteration 68 accepted 161.6054 [2.9902322e+00 2.1125078e-03]\n",
      "iteration 69 accepted 161.44191 [2.9889293e+00 2.2744536e-03]\n",
      "iteration 70 accepted 161.25677 [2.9912777e+00 2.0771027e-03]\n",
      "iteration 71 accepted 161.13184 [2.9918516e+00 2.0344853e-03]\n",
      "iteration 72 accepted 160.91716 [2.9964190e+00 1.8869638e-03]\n",
      "iteration 73 accepted 160.68625 [2.9954576e+00 1.9159913e-03]\n",
      "iteration 74 accepted 160.38019 [3.0014110e+00 1.9875765e-03]\n",
      "iteration 75 accepted 160.2199 [3.0003514e+00 2.0492673e-03]\n",
      "iteration 76 accepted 160.0461 [3.0023952e+00 1.9485950e-03]\n",
      "iteration 77 accepted 159.92874 [3.0022097e+00 1.9381046e-03]\n",
      "iteration 78 accepted 159.75528 [3.0026591e+00 1.9185543e-03]\n",
      "iteration 79 accepted 159.56752 [3.0080354e+00 2.0672679e-03]\n",
      "iteration 80 accepted 159.36807 [3.0072513e+00 2.0744205e-03]\n",
      "iteration 81 accepted 159.16 [3.0116718e+00 1.7662048e-03]\n",
      "iteration 82 accepted 159.01811 [3.0113950e+00 1.7758608e-03]\n",
      "iteration 83 accepted 158.88191 [3.0130103e+00 1.7710328e-03]\n",
      "iteration 84 accepted 158.78351 [3.0133212e+00 1.7722845e-03]\n",
      "iteration 85 accepted 158.63974 [3.0137534e+00 1.7666817e-03]\n",
      "iteration 86 accepted 158.4736 [3.0177460e+00 1.8565655e-03]\n",
      "iteration 87 accepted 158.31111 [3.0172071e+00 1.8573999e-03]\n",
      "iteration 88 accepted 158.13383 [3.0205045e+00 1.6848445e-03]\n",
      "iteration 89 accepted 157.99557 [3.0202975e+00 1.6877651e-03]\n",
      "iteration 90 accepted 157.86916 [3.0215273e+00 1.6678572e-03]\n",
      "iteration 91 accepted 157.77219 [3.0217075e+00 1.6615391e-03]\n",
      "iteration 92 accepted 157.6463 [3.0233810e+00 1.6537905e-03]\n",
      "iteration 93 accepted 157.56227 [3.0235760e+00 1.6383529e-03]\n",
      "iteration 94 accepted 157.43199 [3.0239954e+00 1.6290545e-03]\n",
      "iteration 95 accepted 157.24176 [3.0281084e+00 1.7591715e-03]\n",
      "iteration 96 accepted 157.13971 [3.0270765e+00 1.7613173e-03]\n",
      "iteration 97 accepted 157.04561 [3.0282664e+00 1.6495585e-03]\n",
      "iteration 98 accepted 156.96313 [3.0282104e+00 1.6240478e-03]\n",
      "iteration 99 accepted 156.8704 [3.0295897e+00 1.5802383e-03]\n",
      "iteration 100 accepted 156.78917 [3.0296021e+00 1.5645623e-03]\n",
      "iteration 101 accepted 156.69676 [3.0309801e+00 1.5376806e-03]\n",
      "iteration 102 accepted 156.61446 [3.0310133e+00 1.5258789e-03]\n",
      "iteration 103 accepted 156.52097 [3.0323935e+00 1.5059710e-03]\n",
      "iteration 104 accepted 156.4372 [3.0324445e+00 1.4951825e-03]\n",
      "iteration 105 accepted 156.34216 [3.0338292e+00 1.4779568e-03]\n",
      "iteration 106 accepted 156.25774 [3.0339024e+00 1.4670491e-03]\n",
      "iteration 107 accepted 156.16214 [3.0352843e+00 1.4505982e-03]\n",
      "iteration 108 accepted 156.07889 [3.0353827e+00 1.4392734e-03]\n",
      "iteration 109 accepted 155.98468 [3.0367439e+00 1.4228225e-03]\n",
      "iteration 110 accepted 155.90488 [3.0368693e+00 1.4110208e-03]\n",
      "iteration 111 accepted 155.81366 [3.0381896e+00 1.3943315e-03]\n",
      "iteration 112 accepted 155.73871 [3.0383427e+00 1.3824701e-03]\n",
      "iteration 113 accepted 155.65108 [3.0396039e+00 1.3655424e-03]\n",
      "iteration 114 accepted 155.58136 [3.0397866e+00 1.3536215e-03]\n",
      "iteration 115 accepted 155.49663 [3.040975e+00 1.336813e-03]\n",
      "iteration 116 accepted 155.43208 [3.0411854e+00 1.3253689e-03]\n",
      "iteration 117 accepted 155.34874 [3.0422964e+00 1.3086796e-03]\n",
      "iteration 118 accepted 155.28879 [3.0425310e+00 1.2977123e-03]\n",
      "iteration 119 accepted 155.2028 [3.0443833e+00 1.2805462e-03]\n",
      "iteration 120 accepted 155.07983 [3.0440211e+00 1.2837648e-03]\n",
      "iteration 121 accepted 154.92892 [3.0464926e+00 1.2934208e-03]\n",
      "iteration 122 accepted 154.85477 [3.0462937e+00 1.2747645e-03]\n",
      "iteration 123 accepted 154.73653 [3.0478656e+00 1.2021065e-03]\n",
      "iteration 124 accepted 154.64232 [3.0472586e+00 1.2120008e-03]\n",
      "iteration 125 accepted 154.56706 [3.0480437e+00 1.1970401e-03]\n",
      "iteration 126 accepted 154.49036 [3.0480778e+00 1.1898279e-03]\n",
      "iteration 127 accepted 154.4121 [3.049141e+00 1.180768e-03]\n",
      "iteration 128 accepted 154.3433 [3.0493093e+00 1.1703372e-03]\n",
      "iteration 129 accepted 154.26463 [3.0503330e+00 1.1566281e-03]\n",
      "iteration 130 accepted 154.20233 [3.0505395e+00 1.1462569e-03]\n",
      "iteration 131 accepted 154.12486 [3.0514781e+00 1.1314154e-03]\n",
      "iteration 132 accepted 154.06856 [3.0516977e+00 1.1219382e-03]\n",
      "iteration 133 accepted 153.99301 [3.0525515e+00 1.1077523e-03]\n",
      "iteration 134 accepted 153.94197 [3.0527778e+00 1.0991096e-03]\n",
      "iteration 135 accepted 153.8507 [3.0542614e+00 1.0853410e-03]\n",
      "iteration 136 accepted 153.76265 [3.0541072e+00 1.0840893e-03]\n",
      "iteration 137 accepted 153.64273 [3.0557365e+00 1.0687709e-03]\n",
      "iteration 138 accepted 153.57495 [3.0556414e+00 1.0599494e-03]\n",
      "iteration 139 accepted 153.48135 [3.0568984e+00 1.0303855e-03]\n",
      "iteration 140 accepted 153.3989 [3.0565085e+00 1.0328293e-03]\n",
      "iteration 141 accepted 153.33769 [3.0571902e+00 1.0207891e-03]\n",
      "iteration 142 accepted 153.27794 [3.0572848e+00 1.0144711e-03]\n",
      "iteration 143 accepted 153.21008 [3.0581160e+00 1.0054111e-03]\n"
     ]
    },
    {
     "name": "stdout",
     "output_type": "stream",
     "text": [
      "iteration 144 accepted 153.15828 [3.0583158e+00 9.9772215e-04]\n",
      "iteration 145 accepted 153.06403 [3.0597744e+00 9.8818541e-04]\n",
      "iteration 146 accepted 152.98486 [3.0596848e+00 9.8532438e-04]\n",
      "iteration 147 accepted 152.88028 [3.0609162e+00 9.5808506e-04]\n",
      "iteration 148 accepted 152.79619 [3.0607648e+00 9.5480680e-04]\n",
      "iteration 149 accepted 152.73164 [3.0614185e+00 9.4360113e-04]\n",
      "iteration 150 accepted 152.67892 [3.0615237e+00 9.3787909e-04]\n",
      "iteration 151 accepted 152.6142 [3.0621922e+00 9.2846155e-04]\n",
      "iteration 152 accepted 152.56781 [3.062345e+00 9.227395e-04]\n",
      "iteration 153 accepted 152.49771 [3.063502e+00 9.122491e-04]\n",
      "iteration 154 accepted 152.41092 [3.0633543e+00 9.1189146e-04]\n",
      "iteration 155 accepted 152.3173 [3.0646758e+00 8.9949369e-04]\n",
      "iteration 156 accepted 152.25307 [3.0644855e+00 8.9561939e-04]\n",
      "iteration 157 accepted 152.20154 [3.0649846e+00 8.8161230e-04]\n",
      "iteration 158 accepted 152.15546 [3.065087e+00 8.764267e-04]\n",
      "iteration 159 accepted 152.10092 [3.0656562e+00 8.6724758e-04]\n",
      "iteration 160 accepted 152.05959 [3.0658092e+00 8.6241961e-04]\n",
      "iteration 161 accepted 151.99591 [3.0668273e+00 8.5234642e-04]\n",
      "iteration 162 accepted 151.91727 [3.0667517e+00 8.5133314e-04]\n",
      "iteration 163 accepted 151.82703 [3.0678933e+00 8.3935261e-04]\n",
      "iteration 164 accepted 151.7614 [3.06774e+00 8.36432e-04]\n",
      "iteration 165 accepted 151.70564 [3.068225e+00 8.254647e-04]\n",
      "iteration 166 accepted 151.65775 [3.0683112e+00 8.2129240e-04]\n",
      "iteration 167 accepted 151.5974 [3.0688756e+00 8.1354380e-04]\n",
      "iteration 168 accepted 151.55383 [3.0690105e+00 8.0925226e-04]\n",
      "iteration 169 accepted 151.47438 [3.070034e+00 8.008480e-04]\n",
      "iteration 170 accepted 151.40466 [3.0699353e+00 8.0025196e-04]\n",
      "iteration 171 accepted 151.3085 [3.0709815e+00 7.8666210e-04]\n",
      "iteration 172 accepted 151.24748 [3.0708766e+00 7.8374147e-04]\n",
      "iteration 173 accepted 151.19559 [3.0713272e+00 7.7438354e-04]\n",
      "iteration 174 accepted 151.15369 [3.0714188e+00 7.7074766e-04]\n",
      "iteration 175 accepted 151.10182 [3.0718932e+00 7.6365471e-04]\n",
      "iteration 176 accepted 151.06442 [3.0720167e+00 7.6019764e-04]\n",
      "iteration 177 accepted 151.00871 [3.0728543e+00 7.5179338e-04]\n",
      "iteration 178 accepted 150.93631 [3.0727730e+00 7.5143576e-04]\n",
      "iteration 179 accepted 150.85764 [3.0737622e+00 7.4237585e-04]\n",
      "iteration 180 accepted 150.80386 [3.0736425e+00 7.4011087e-04]\n",
      "iteration 181 accepted 150.75853 [3.074035e+00 7.315874e-04]\n",
      "iteration 182 accepted 150.72043 [3.0741236e+00 7.2830915e-04]\n",
      "iteration 183 accepted 150.66383 [3.0749538e+00 7.2011352e-04]\n",
      "iteration 184 accepted 150.5991 [3.0748880e+00 7.1951747e-04]\n",
      "iteration 185 accepted 150.54312 [3.0756288e+00 7.0780516e-04]\n",
      "iteration 186 accepted 150.47182 [3.0753794e+00 7.0947409e-04]\n",
      "iteration 187 accepted 150.42851 [3.0756617e+00 7.0554018e-04]\n",
      "iteration 188 accepted 150.33705 [3.0768399e+00 7.0273876e-04]\n",
      "iteration 189 accepted 150.28635 [3.0767500e+00 6.9853663e-04]\n",
      "iteration 190 accepted 150.23367 [3.0771024e+00 6.8786740e-04]\n",
      "iteration 191 accepted 150.19528 [3.0772104e+00 6.8405271e-04]\n",
      "iteration 192 accepted 150.12184 [3.0779963e+00 6.7424774e-04]\n",
      "iteration 193 accepted 150.06528 [3.0777113e+00 6.7633390e-04]\n",
      "iteration 194 accepted 150.02141 [3.07796e+00 6.72400e-04]\n",
      "iteration 195 accepted 149.9297 [3.0790608e+00 6.6792965e-04]\n",
      "iteration 196 accepted 149.88649 [3.0790043e+00 6.6399574e-04]\n",
      "iteration 197 accepted 149.82002 [3.0796199e+00 6.4751506e-04]\n",
      "iteration 198 accepted 149.76588 [3.0794735e+00 6.4808130e-04]\n",
      "iteration 199 accepted 149.7296 [3.0798242e+00 6.4349174e-04]\n",
      "iteration 200 accepted 149.68953 [3.0798376e+00 6.4221025e-04]\n",
      "\n"
     ]
    }
   ],
   "source": [
    "J_hist = []\n",
    "controller.eval()\n",
    "Z, U = controller.fit(U, encoding=ENCODING, n_iterations=200,\n",
    "                      on_iteration=on_iteration)"
   ]
  },
  {
   "cell_type": "code",
   "execution_count": 13,
   "metadata": {},
   "outputs": [
    {
     "data": {
      "image/png": "[encoded data removed]",
      "text/plain": [
       "<Figure size 432x288 with 1 Axes>"
      ]
     },
     "metadata": {},
     "output_type": "display_data"
    },
    {
     "data": {
      "image/png": "[encoded data removed]",
      "text/plain": [
       "<Figure size 432x288 with 1 Axes>"
      ]
     },
     "metadata": {},
     "output_type": "display_data"
    },
    {
     "data": {
      "image/png": "[encoded data removed]",
      "text/plain": [
       "<Figure size 432x288 with 1 Axes>"
      ]
     },
     "metadata": {},
     "output_type": "display_data"
    },
    {
     "data": {
      "image/png": "[encoded data removed]",
      "text/plain": [
       "<Figure size 432x288 with 1 Axes>"
      ]
     },
     "metadata": {},
     "output_type": "display_data"
    },
    {
     "data": {
      "image/png": "[encoded data removed]",
      "text/plain": [
       "<Figure size 432x288 with 1 Axes>"
      ]
     },
     "metadata": {},
     "output_type": "display_data"
    }
   ],
   "source": [
    "plot(Z, U)"
   ]
  },
  {
   "cell_type": "code",
   "execution_count": 14,
   "metadata": {},
   "outputs": [
    {
     "name": "stdout",
     "output_type": "stream",
     "text": [
      "Press ENTER to continue\n"
     ]
    }
   ],
   "source": [
    "if RENDER:\n",
    "    # Wait for user interaction before visualizing. \n",
    "    _ = input(\"Press ENTER to continue\")"
   ]
  },
  {
   "cell_type": "code",
   "execution_count": 15,
   "metadata": {},
   "outputs": [],
   "source": [
    "env.reset()\n",
    "for i in range(N):\n",
    "    z = env.get_state().encode(ENCODING)\n",
    "    u = controller(z, i, ENCODING)\n",
    "    env.apply(u)"
   ]
  },
  {
   "cell_type": "code",
   "execution_count": 16,
   "metadata": {},
   "outputs": [],
   "source": [
    "env.close()"
   ]
  }
 ],
 "metadata": {
  "kernelspec": {
   "display_name": "Python 3",
   "language": "python",
   "name": "python3"
  },
  "language_info": {
   "codemirror_mode": {
    "name": "ipython",
    "version": 3
   },
   "file_extension": ".py",
   "mimetype": "text/x-python",
   "name": "python",
   "nbconvert_exporter": "python",
   "pygments_lexer": "ipython3",
   "version": "3.7.0"
  }
 },
 "nbformat": 4,
 "nbformat_minor": 2
}
