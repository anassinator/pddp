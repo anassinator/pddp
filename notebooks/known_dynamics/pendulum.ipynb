{
 "cells": [
  {
   "cell_type": "markdown",
   "metadata": {},
   "source": [
    "# Pendulum"
   ]
  },
  {
   "cell_type": "markdown",
   "metadata": {},
   "source": [
    "The state and control vectors $\\textbf{x}$ and $\\textbf{u}$ are defined as follows:\n",
    "\n",
    "$$\n",
    "\\begin{equation*}\n",
    "\\textbf{x} = \\begin{bmatrix}\n",
    "    \\theta & \\dot{\\theta}\n",
    "    \\end{bmatrix}\n",
    "\\end{equation*}\n",
    "$$\n",
    "\n",
    "$$\n",
    "\\begin{equation*}\n",
    "\\textbf{u} = \\begin{bmatrix}\n",
    "    \\tau\n",
    "    \\end{bmatrix}\n",
    "\\end{equation*}\n",
    "$$\n",
    "\n",
    "The goal is to swing the pendulum upright:\n",
    "$$\n",
    "\\begin{equation*}\n",
    "\\textbf{x}_{goal} = \\begin{bmatrix}\n",
    "    \\pi & 0\n",
    "    \\end{bmatrix}\n",
    "\\end{equation*}\n",
    "$$\n",
    "\n",
    "**Note**: The force is constrained between $-2.5$ and $2.5$ Nm."
   ]
  },
  {
   "cell_type": "code",
   "execution_count": 1,
   "metadata": {},
   "outputs": [],
   "source": [
    "%matplotlib inline"
   ]
  },
  {
   "cell_type": "code",
   "execution_count": 2,
   "metadata": {},
   "outputs": [],
   "source": [
    "from __future__ import print_function"
   ]
  },
  {
   "cell_type": "code",
   "execution_count": 3,
   "metadata": {},
   "outputs": [],
   "source": [
    "import matplotlib.pyplot as plt"
   ]
  },
  {
   "cell_type": "code",
   "execution_count": 4,
   "metadata": {},
   "outputs": [],
   "source": [
    "import pddp\n",
    "import pddp.examples"
   ]
  },
  {
   "cell_type": "code",
   "execution_count": 5,
   "metadata": {},
   "outputs": [],
   "source": [
    "import torch\n",
    "import numpy as np"
   ]
  },
  {
   "cell_type": "code",
   "execution_count": 6,
   "metadata": {},
   "outputs": [],
   "source": [
    "DT = 0.1  # Time step (s).\n",
    "N = 40  # Horizon length.\n",
    "RENDER = True  # Whether to render the environment or not.\n",
    "\n",
    "# Disable uncertainty since we are dealing with known dynamics.\n",
    "ENCODING = pddp.StateEncoding.IGNORE_UNCERTAINTY"
   ]
  },
  {
   "cell_type": "code",
   "execution_count": 7,
   "metadata": {},
   "outputs": [],
   "source": [
    "cost = pddp.examples.pendulum.PendulumCost()\n",
    "model = pddp.examples.pendulum.PendulumDynamicsModel(DT)\n",
    "env = pddp.examples.pendulum.PendulumEnv(dt=DT, render=RENDER)"
   ]
  },
  {
   "cell_type": "code",
   "execution_count": 8,
   "metadata": {},
   "outputs": [],
   "source": [
    "def plot(Z, U):\n",
    "    t = np.arange(N + 1) * DT\n",
    "    X = pddp.utils.encoding.decode_mean(Z, ENCODING).detach().numpy()\n",
    "    U = model.constrain(U).detach().numpy()\n",
    "\n",
    "    theta = np.unwrap(X[:, 0])  # Makes for smoother plots.\n",
    "    theta_dot = X[:, 1]\n",
    "    \n",
    "    plt.figure()\n",
    "    plt.plot(theta, theta_dot)\n",
    "    plt.xlabel(\"Orientation (rad)\")\n",
    "    plt.ylabel(\"Angular velocity (rad/s)\")\n",
    "    plt.title(\"Orientation Phase Plot\")\n",
    "\n",
    "    plt.figure()\n",
    "    plt.plot(t, theta)\n",
    "    plt.xlabel(\"Time (s)\")\n",
    "    plt.ylabel(\"Orientation (rad)\")\n",
    "    plt.title(\"Orientation path\")\n",
    "\n",
    "    plt.figure()\n",
    "    plt.plot(t, theta_dot)\n",
    "    plt.xlabel(\"Time (s)\")\n",
    "    plt.ylabel(\"Angular velocity (rad / s)\")\n",
    "    plt.title(\"Angular velocity path\")\n",
    "    \n",
    "    plt.figure()\n",
    "    plt.plot(t[:-1], U)\n",
    "    plt.xlabel(\"Time (s)\")\n",
    "    plt.ylabel(\"Torque (N m)\")\n",
    "    plt.title(\"Constrained action path\")\n",
    "    \n",
    "    plt.figure()\n",
    "    plt.plot(J_hist)\n",
    "    plt.xlabel(\"Iteration\")\n",
    "    plt.ylabel(\"Total loss\")\n",
    "    plt.title(\"Loss path\")"
   ]
  },
  {
   "cell_type": "code",
   "execution_count": 9,
   "metadata": {},
   "outputs": [],
   "source": [
    "def on_iteration(iteration, state, Z, U, J_opt):\n",
    "    J_opt = J_opt.detach().numpy()\n",
    "\n",
    "    J_hist.append(J_opt)\n",
    "    final_state = Z[-1].detach().numpy()\n",
    "    final_state[0] = (final_state[0] + np.pi) % (2 * np.pi) - np.pi\n",
    "    print(\"iteration\", iteration + 1, state, J_opt, final_state)"
   ]
  },
  {
   "cell_type": "code",
   "execution_count": 10,
   "metadata": {},
   "outputs": [],
   "source": [
    "controller = pddp.controllers.PDDPController(env, model, cost)"
   ]
  },
  {
   "cell_type": "code",
   "execution_count": 11,
   "metadata": {},
   "outputs": [],
   "source": [
    "U = torch.randn(N, model.action_size)"
   ]
  },
  {
   "cell_type": "code",
   "execution_count": 12,
   "metadata": {
    "scrolled": false
   },
   "outputs": [
    {
     "data": {
      "application/vnd.jupyter.widget-view+json": {
       "model_id": "87749c6492b44e6c96bfb219b1f4ed75",
       "version_major": 2,
       "version_minor": 0
      },
      "text/plain": [
       "HBox(children=(IntProgress(value=0, description='iLQR', max=200), HTML(value='')))"
      ]
     },
     "metadata": {},
     "output_type": "display_data"
    },
    {
     "name": "stdout",
     "output_type": "stream",
     "text": [
      "iteration 1 iLQRState.ACCEPTED 293.33643 [ 2.1277103 -0.5814373]\n",
      "iteration 2 iLQRState.ACCEPTED 227.18907 [ 2.43498    -0.30652708]\n",
      "iteration 3 iLQRState.ACCEPTED 212.42578 [ 2.4287775  -0.15413547]\n",
      "iteration 4 iLQRState.ACCEPTED 195.74614 [ 2.490048   -0.07545096]\n",
      "iteration 5 iLQRState.ACCEPTED 191.59628 [ 2.5365984  -0.05721152]\n",
      "iteration 6 iLQRState.ACCEPTED 186.51765 [ 2.622795  -0.0266335]\n",
      "iteration 7 iLQRState.ACCEPTED 185.40663 [ 2.6372235  -0.02295536]\n",
      "iteration 8 iLQRState.ACCEPTED 181.56229 [2.8017461  0.05408812]\n",
      "iteration 9 iLQRState.ACCEPTED 180.52072 [2.7875266  0.04144251]\n",
      "iteration 10 iLQRState.ACCEPTED 179.33182 [2.7929895  0.02288759]\n",
      "iteration 11 iLQRState.ACCEPTED 178.64452 [2.7894883  0.01736081]\n",
      "iteration 12 iLQRState.ACCEPTED 177.66264 [2.8046517  0.00923973]\n",
      "iteration 13 iLQRState.ACCEPTED 177.07086 [2.8048239  0.00719708]\n",
      "iteration 14 iLQRState.ACCEPTED 176.18987 [2.8220997  0.00415152]\n",
      "iteration 15 iLQRState.ACCEPTED 175.6675 [2.8230138  0.00341463]\n",
      "iteration 16 iLQRState.ACCEPTED 174.89058 [2.8388236e+00 2.2824407e-03]\n",
      "iteration 17 iLQRState.ACCEPTED 174.41055 [2.8399045e+00 2.0282269e-03]\n",
      "iteration 18 iLQRState.ACCEPTED 173.71242 [2.8538086e+00 1.6000867e-03]\n",
      "iteration 19 iLQRState.ACCEPTED 173.27774 [2.8549762e+00 1.5298724e-03]\n",
      "iteration 20 iLQRState.ACCEPTED 172.63843 [2.8674903e+00 1.3714433e-03]\n",
      "iteration 21 iLQRState.ACCEPTED 172.24782 [2.8688817e+00 1.3808012e-03]\n",
      "iteration 22 iLQRState.ACCEPTED 171.65364 [2.8804965e+00 1.3375878e-03]\n",
      "iteration 23 iLQRState.ACCEPTED 171.28488 [2.8793638e+00 1.2738705e-03]\n",
      "iteration 24 iLQRState.ACCEPTED 170.73038 [2.8826990e+00 1.3175011e-03]\n",
      "iteration 25 iLQRState.ACCEPTED 169.94667 [2.9100232e+00 1.8237829e-03]\n",
      "iteration 26 iLQRState.ACCEPTED 169.53653 [2.9082651e+00 1.9811988e-03]\n",
      "iteration 27 iLQRState.ACCEPTED 168.7307 [2.9215775  0.00405979]\n",
      "iteration 28 iLQRState.ACCEPTED 168.27594 [2.9200838  0.00411785]\n",
      "iteration 29 iLQRState.ACCEPTED 168.04347 [2.9189444  0.00343597]\n",
      "iteration 30 iLQRState.ACCEPTED 167.64903 [2.9219205e+00 2.4324656e-03]\n",
      "iteration 31 iLQRState.ACCEPTED 167.4189 [2.9231153e+00 2.3092031e-03]\n",
      "iteration 32 iLQRState.ACCEPTED 166.78012 [2.9430013e+00 1.7944574e-03]\n",
      "iteration 33 iLQRState.ACCEPTED 166.47354 [2.9387195e+00 2.0745397e-03]\n",
      "iteration 34 iLQRState.ACCEPTED 166.14221 [2.9423549e+00 1.8587708e-03]\n",
      "iteration 35 iLQRState.ACCEPTED 165.90283 [2.9424660e+00 1.8212795e-03]\n",
      "iteration 36 iLQRState.ACCEPTED 165.57777 [2.9479384e+00 1.7136335e-03]\n",
      "iteration 37 iLQRState.ACCEPTED 165.3632 [2.9488058e+00 1.7480850e-03]\n",
      "iteration 38 iLQRState.ACCEPTED 164.9964 [2.9578576e+00 1.6948581e-03]\n",
      "iteration 39 iLQRState.ACCEPTED 164.65332 [2.9551504e+00 1.7310977e-03]\n",
      "iteration 40 iLQRState.ACCEPTED 164.16994 [2.9660728e+00 1.8192530e-03]\n",
      "iteration 41 iLQRState.ACCEPTED 163.93282 [2.9634783e+00 2.1319985e-03]\n",
      "iteration 42 iLQRState.ACCEPTED 163.68533 [2.9668484e+00 1.9469857e-03]\n",
      "iteration 43 iLQRState.ACCEPTED 163.51138 [2.9674652e+00 1.9260049e-03]\n",
      "iteration 44 iLQRState.ACCEPTED 163.26729 [2.9712465e+00 1.8579960e-03]\n",
      "iteration 45 iLQRState.ACCEPTED 163.10158 [2.9719980e+00 1.8668771e-03]\n",
      "iteration 46 iLQRState.ACCEPTED 162.86305 [2.9754002e+00 1.8442869e-03]\n",
      "iteration 47 iLQRState.ACCEPTED 162.70247 [2.9760568e+00 1.8584132e-03]\n",
      "iteration 48 iLQRState.ACCEPTED 162.47421 [2.9791772e+00 1.8508434e-03]\n",
      "iteration 49 iLQRState.ACCEPTED 162.32239 [2.9797525e+00 1.8658638e-03]\n",
      "iteration 50 iLQRState.ACCEPTED 162.10799 [2.9827001e+00 1.8621683e-03]\n",
      "iteration 51 iLQRState.ACCEPTED 161.96631 [2.9832304e+00 1.8765330e-03]\n",
      "iteration 52 iLQRState.ACCEPTED 161.7669 [2.9860365e+00 1.8727779e-03]\n",
      "iteration 53 iLQRState.ACCEPTED 161.6341 [2.9865494e+00 1.8849373e-03]\n",
      "iteration 54 iLQRState.ACCEPTED 161.44623 [2.9892294e+00 1.8802285e-03]\n",
      "iteration 55 iLQRState.ACCEPTED 161.31956 [2.9897492e+00 1.8896461e-03]\n",
      "iteration 56 iLQRState.ACCEPTED 161.13762 [2.9923184e+00 1.8834472e-03]\n",
      "iteration 57 iLQRState.ACCEPTED 161.01491 [2.9928591e+00 1.8898249e-03]\n",
      "iteration 58 iLQRState.ACCEPTED 160.82285 [2.9971368e+00 1.8819571e-03]\n",
      "iteration 59 iLQRState.ACCEPTED 160.57191 [2.9958744e+00 1.9182563e-03]\n",
      "iteration 60 iLQRState.ACCEPTED 160.27222 [3.0020416e+00 2.0895600e-03]\n",
      "iteration 61 iLQRState.ACCEPTED 160.1111 [3.000647e+00 2.166450e-03]\n",
      "iteration 62 iLQRState.ACCEPTED 159.93033 [3.0042617e+00 1.8457174e-03]\n",
      "iteration 63 iLQRState.ACCEPTED 159.70934 [3.0033593e+00 1.8738508e-03]\n",
      "iteration 64 iLQRState.ACCEPTED 159.48552 [3.0083625e+00 1.9955039e-03]\n",
      "iteration 65 iLQRState.ACCEPTED 159.3032 [3.006803e+00 2.056539e-03]\n",
      "iteration 66 iLQRState.ACCEPTED 159.1732 [3.0090117e+00 1.9369125e-03]\n",
      "iteration 67 iLQRState.ACCEPTED 159.06776 [3.0088706e+00 1.9150972e-03]\n",
      "iteration 68 iLQRState.ACCEPTED 158.94182 [3.0111012e+00 1.8603206e-03]\n",
      "iteration 69 iLQRState.ACCEPTED 158.83963 [3.0110648e+00 1.8484592e-03]\n",
      "iteration 70 iLQRState.ACCEPTED 158.71478 [3.0132010e+00 1.8132329e-03]\n",
      "iteration 71 iLQRState.ACCEPTED 158.61244 [3.0132241e+00 1.8047690e-03]\n",
      "iteration 72 iLQRState.ACCEPTED 158.48625 [3.0153182e+00 1.7796755e-03]\n",
      "iteration 73 iLQRState.ACCEPTED 158.38377 [3.0154178e+00 1.7703176e-03]\n",
      "iteration 74 iLQRState.ACCEPTED 158.25533 [3.0174742e+00 1.7486811e-03]\n",
      "iteration 75 iLQRState.ACCEPTED 158.15419 [3.0176554e+00 1.7375946e-03]\n",
      "iteration 76 iLQRState.ACCEPTED 158.02466 [3.0196459e+00 1.7163157e-03]\n",
      "iteration 77 iLQRState.ACCEPTED 157.92796 [3.0199018e+00 1.7035007e-03]\n",
      "iteration 78 iLQRState.ACCEPTED 157.80014 [3.0217845e+00 1.6819835e-03]\n",
      "iteration 79 iLQRState.ACCEPTED 157.71085 [3.0221009e+00 1.6682148e-03]\n",
      "iteration 80 iLQRState.ACCEPTED 157.58678 [3.0238411e+00 1.6463995e-03]\n",
      "iteration 81 iLQRState.ACCEPTED 157.50603 [3.0242019e+00 1.6326308e-03]\n",
      "iteration 82 iLQRState.ACCEPTED 157.35568 [3.0271187e+00 1.6121268e-03]\n",
      "iteration 83 iLQRState.ACCEPTED 157.21991 [3.0265386e+00 1.6227961e-03]\n",
      "iteration 84 iLQRState.ACCEPTED 157.01152 [3.030027e+00 1.642406e-03]\n",
      "iteration 85 iLQRState.ACCEPTED 156.92603 [3.0298688e+00 1.6164780e-03]\n",
      "iteration 86 iLQRState.ACCEPTED 156.75131 [3.0321651e+00 1.5012026e-03]\n",
      "iteration 87 iLQRState.ACCEPTED 156.65292 [3.0316927e+00 1.5080571e-03]\n",
      "iteration 88 iLQRState.ACCEPTED 156.55339 [3.0327058e+00 1.4913678e-03]\n",
      "iteration 89 iLQRState.ACCEPTED 156.47163 [3.0329199e+00 1.4804602e-03]\n",
      "iteration 90 iLQRState.ACCEPTED 156.36758 [3.0341949e+00 1.4668107e-03]\n",
      "iteration 91 iLQRState.ACCEPTED 156.29166 [3.0345345e+00 1.4531612e-03]\n",
      "iteration 92 iLQRState.ACCEPTED 156.17706 [3.0367572e+00 1.4345646e-03]\n",
      "iteration 93 iLQRState.ACCEPTED 156.03232 [3.036458e+00 1.435399e-03]\n",
      "iteration 94 iLQRState.ACCEPTED 155.85616 [3.0392904e+00 1.4412403e-03]\n",
      "iteration 95 iLQRState.ACCEPTED 155.7616 [3.0389202e+00 1.4266968e-03]\n",
      "iteration 96 iLQRState.ACCEPTED 155.65779 [3.0406950e+00 1.3425946e-03]\n",
      "iteration 97 iLQRState.ACCEPTED 155.53133 [3.0403361e+00 1.3469458e-03]\n",
      "iteration 98 iLQRState.ACCEPTED 155.44698 [3.0413959e+00 1.3303757e-03]\n",
      "iteration 99 iLQRState.ACCEPTED 155.38326 [3.0417473e+00 1.3173819e-03]\n",
      "iteration 100 iLQRState.ACCEPTED 155.27774 [3.0437539e+00 1.3018847e-03]\n",
      "iteration 101 iLQRState.ACCEPTED 155.173 [3.0435691e+00 1.2993217e-03]\n",
      "iteration 102 iLQRState.ACCEPTED 155.05542 [3.045488e+00 1.265645e-03]\n",
      "iteration 103 iLQRState.ACCEPTED 154.96019 [3.0448220e+00 1.2742281e-03]\n",
      "iteration 104 iLQRState.ACCEPTED 154.88498 [3.0456741e+00 1.2509823e-03]\n",
      "iteration 105 iLQRState.ACCEPTED 154.81192 [3.0457079e+00 1.2414455e-03]\n",
      "iteration 106 iLQRState.ACCEPTED 154.72894 [3.0469086e+00 1.2310743e-03]\n",
      "iteration 107 iLQRState.ACCEPTED 154.66588 [3.0471315e+00 1.2177825e-03]\n",
      "iteration 108 iLQRState.ACCEPTED 154.5508 [3.0492063e+00 1.2078881e-03]\n",
      "iteration 109 iLQRState.ACCEPTED 154.45837 [3.049001e+00 1.204431e-03]\n",
      "iteration 110 iLQRState.ACCEPTED 154.32483 [3.0506570e+00 1.1560321e-03]\n",
      "iteration 111 iLQRState.ACCEPTED 154.23332 [3.0505242e+00 1.1497140e-03]\n",
      "iteration 112 iLQRState.ACCEPTED 154.15466 [3.0513623e+00 1.1337399e-03]\n",
      "iteration 113 iLQRState.ACCEPTED 154.09769 [3.0515509e+00 1.1246204e-03]\n",
      "iteration 114 iLQRState.ACCEPTED 154.02121 [3.0523539e+00 1.1108518e-03]\n",
      "iteration 115 iLQRState.ACCEPTED 153.96971 [3.0525799e+00 1.1024475e-03]\n",
      "iteration 116 iLQRState.ACCEPTED 153.88206 [3.0539980e+00 1.0883212e-03]\n"
     ]
    },
    {
     "name": "stdout",
     "output_type": "stream",
     "text": [
      "iteration 117 iLQRState.ACCEPTED 153.78728 [3.0538478e+00 1.0871887e-03]\n",
      "iteration 118 iLQRState.ACCEPTED 153.66422 [3.0555735e+00 1.0775328e-03]\n",
      "iteration 119 iLQRState.ACCEPTED 153.59962 [3.0554199e+00 1.0685325e-03]\n",
      "iteration 120 iLQRState.ACCEPTED 153.51881 [3.0565872e+00 1.0322332e-03]\n",
      "iteration 121 iLQRState.ACCEPTED 153.43112 [3.0559301e+00 1.0444522e-03]\n",
      "iteration 122 iLQRState.ACCEPTED 153.37274 [3.0566351e+00 1.0327697e-03]\n",
      "iteration 123 iLQRState.ACCEPTED 153.30612 [3.0566373e+00 1.0273457e-03]\n",
      "iteration 124 iLQRState.ACCEPTED 153.24075 [3.0576401e+00 1.0206699e-03]\n",
      "iteration 125 iLQRState.ACCEPTED 153.18452 [3.0578067e+00 1.0114908e-03]\n",
      "iteration 126 iLQRState.ACCEPTED 153.11136 [3.0594425e+00 1.0024309e-03]\n",
      "iteration 127 iLQRState.ACCEPTED 153.01067 [3.0592461e+00 1.0005832e-03]\n",
      "iteration 128 iLQRState.ACCEPTED 152.91168 [3.0606668e+00 9.6982718e-04]\n",
      "iteration 129 iLQRState.ACCEPTED 152.82155 [3.0604594e+00 9.6595287e-04]\n",
      "iteration 130 iLQRState.ACCEPTED 152.75664 [3.0611527e+00 9.5182657e-04]\n",
      "iteration 131 iLQRState.ACCEPTED 152.7028 [3.0612724e+00 9.4503164e-04]\n",
      "iteration 132 iLQRState.ACCEPTED 152.63762 [3.061963e+00 9.341240e-04]\n",
      "iteration 133 iLQRState.ACCEPTED 152.59013 [3.062126e+00 9.279251e-04]\n",
      "iteration 134 iLQRState.ACCEPTED 152.52618 [3.0627656e+00 9.1779232e-04]\n",
      "iteration 135 iLQRState.ACCEPTED 152.48317 [3.0629365e+00 9.1212988e-04]\n",
      "iteration 136 iLQRState.ACCEPTED 152.40398 [3.0640690e+00 9.0152025e-04]\n",
      "iteration 137 iLQRState.ACCEPTED 152.33118 [3.0639603e+00 9.0062618e-04]\n",
      "iteration 138 iLQRState.ACCEPTED 152.22943 [3.0652072e+00 8.8739395e-04]\n",
      "iteration 139 iLQRState.ACCEPTED 152.1735 [3.0651150e+00 8.8244677e-04]\n",
      "iteration 140 iLQRState.ACCEPTED 152.11763 [3.0656104e+00 8.6981058e-04]\n",
      "iteration 141 iLQRState.ACCEPTED 152.0778 [3.065739e+00 8.647442e-04]\n",
      "iteration 142 iLQRState.ACCEPTED 151.99855 [3.0667665e+00 8.5383654e-04]\n",
      "iteration 143 iLQRState.ACCEPTED 151.93703 [3.0666902e+00 8.5270405e-04]\n",
      "iteration 144 iLQRState.ACCEPTED 151.84708 [3.0676806e+00 8.3768368e-04]\n",
      "iteration 145 iLQRState.ACCEPTED 151.78494 [3.067509e+00 8.363724e-04]\n",
      "iteration 146 iLQRState.ACCEPTED 151.73264 [3.0679724e+00 8.2743168e-04]\n",
      "iteration 147 iLQRState.ACCEPTED 151.68152 [3.0680032e+00 8.2445145e-04]\n",
      "iteration 148 iLQRState.ACCEPTED 151.62474 [3.0685947e+00 8.1783533e-04]\n",
      "iteration 149 iLQRState.ACCEPTED 151.57706 [3.0686862e+00 8.1408024e-04]\n",
      "iteration 150 iLQRState.ACCEPTED 151.5172 [3.069281e+00 8.069873e-04]\n",
      "iteration 151 iLQRState.ACCEPTED 151.47295 [3.0694063e+00 8.0281496e-04]\n",
      "iteration 152 iLQRState.ACCEPTED 151.40675 [3.0704184e+00 7.9429150e-04]\n",
      "iteration 153 iLQRState.ACCEPTED 151.32434 [3.0702522e+00 7.9482794e-04]\n",
      "iteration 154 iLQRState.ACCEPTED 151.22336 [3.0714915e+00 7.8582764e-04]\n",
      "iteration 155 iLQRState.ACCEPTED 151.16846 [3.0713911e+00 7.8099966e-04]\n",
      "iteration 156 iLQRState.ACCEPTED 151.09982 [3.0722313e+00 7.6121092e-04]\n",
      "iteration 157 iLQRState.ACCEPTED 151.03523 [3.0718288e+00 7.6574087e-04]\n",
      "iteration 158 iLQRState.ACCEPTED 150.99184 [3.0721562e+00 7.6103210e-04]\n",
      "iteration 159 iLQRState.ACCEPTED 150.8982 [3.0734897e+00 7.5924397e-04]\n",
      "iteration 160 iLQRState.ACCEPTED 150.85538 [3.073421e+00 7.529855e-04]\n",
      "iteration 161 iLQRState.ACCEPTED 150.78978 [3.0740921e+00 7.2872639e-04]\n",
      "iteration 162 iLQRState.ACCEPTED 150.73128 [3.0738504e+00 7.3075294e-04]\n",
      "iteration 163 iLQRState.ACCEPTED 150.69229 [3.0741272e+00 7.2717667e-04]\n",
      "iteration 164 iLQRState.ACCEPTED 150.60161 [3.0752757e+00 7.2520971e-04]\n",
      "iteration 165 iLQRState.ACCEPTED 150.55797 [3.0752156e+00 7.2067976e-04]\n",
      "iteration 166 iLQRState.ACCEPTED 150.49768 [3.0758448e+00 7.0205331e-04]\n",
      "iteration 167 iLQRState.ACCEPTED 150.43277 [3.0755053e+00 7.0607662e-04]\n",
      "iteration 168 iLQRState.ACCEPTED 150.38632 [3.0758078e+00 7.0247054e-04]\n",
      "iteration 169 iLQRState.ACCEPTED 150.29124 [3.0770729e+00 7.0279837e-04]\n",
      "iteration 170 iLQRState.ACCEPTED 150.24316 [3.0769703e+00 6.9791079e-04]\n",
      "iteration 171 iLQRState.ACCEPTED 150.18999 [3.0773160e+00 6.8593025e-04]\n",
      "iteration 172 iLQRState.ACCEPTED 150.15259 [3.0774188e+00 6.8199635e-04]\n",
      "iteration 173 iLQRState.ACCEPTED 150.08034 [3.0781941e+00 6.7111850e-04]\n",
      "iteration 174 iLQRState.ACCEPTED 150.02386 [3.0781369e+00 6.7064166e-04]\n",
      "iteration 175 iLQRState.ACCEPTED 149.94759 [3.078869e+00 6.606281e-04]\n",
      "iteration 176 iLQRState.ACCEPTED 149.89212 [3.0787652e+00 6.5994263e-04]\n",
      "iteration 177 iLQRState.ACCEPTED 149.851 [3.079123e+00 6.543100e-04]\n",
      "iteration 178 iLQRState.ACCEPTED 149.81148 [3.0791724e+00 6.5237284e-04]\n",
      "iteration 179 iLQRState.ACCEPTED 149.76834 [3.0795836e+00 6.4760447e-04]\n",
      "iteration 180 iLQRState.ACCEPTED 149.73468 [3.079674e+00 6.453395e-04]\n",
      "iteration 181 iLQRState.ACCEPTED 149.68515 [3.0803928e+00 6.3899159e-04]\n",
      "iteration 182 iLQRState.ACCEPTED 149.6258 [3.0803256e+00 6.3875318e-04]\n",
      "iteration 183 iLQRState.ACCEPTED 149.56895 [3.0810199e+00 6.2975287e-04]\n",
      "iteration 184 iLQRState.ACCEPTED 149.5106 [3.0809121e+00 6.2927604e-04]\n",
      "iteration 185 iLQRState.ACCEPTED 149.4722 [3.0812812e+00 6.2412024e-04]\n",
      "iteration 186 iLQRState.ACCEPTED 149.43681 [3.0813386e+00 6.2221289e-04]\n",
      "iteration 187 iLQRState.ACCEPTED 149.39455 [3.0817173e+00 6.1756372e-04]\n",
      "iteration 188 iLQRState.ACCEPTED 149.36313 [3.0818088e+00 6.1541796e-04]\n",
      "iteration 189 iLQRState.ACCEPTED 149.30524 [3.0824866e+00 6.0936809e-04]\n",
      "iteration 190 iLQRState.ACCEPTED 149.25317 [3.0824361e+00 6.0907006e-04]\n",
      "iteration 191 iLQRState.ACCEPTED 149.18245 [3.083098e+00 6.008148e-04]\n",
      "iteration 192 iLQRState.ACCEPTED 149.12979 [3.0830345e+00 5.9995055e-04]\n",
      "iteration 193 iLQRState.ACCEPTED 149.08577 [3.083362e+00 5.951822e-04]\n",
      "iteration 194 iLQRState.ACCEPTED 149.04831 [3.0834329e+00 5.9330463e-04]\n",
      "iteration 195 iLQRState.ACCEPTED 149.00044 [3.0840795e+00 5.8746338e-04]\n",
      "iteration 196 iLQRState.ACCEPTED 148.93152 [3.0840178e+00 5.8743358e-04]\n",
      "iteration 197 iLQRState.ACCEPTED 148.88322 [3.0846419e+00 5.7953596e-04]\n",
      "iteration 198 iLQRState.ACCEPTED 148.814 [3.0844152e+00 5.8123469e-04]\n",
      "iteration 199 iLQRState.ACCEPTED 148.77727 [3.0846498e+00 5.7825446e-04]\n",
      "iteration 200 iLQRState.ACCEPTED 148.70175 [3.0855668e+00 5.7342649e-04]\n",
      "\n"
     ]
    }
   ],
   "source": [
    "J_hist = []\n",
    "controller.eval()\n",
    "Z, U, state = controller.fit(U, encoding=ENCODING, n_iterations=200,\n",
    "                             on_iteration=on_iteration)"
   ]
  },
  {
   "cell_type": "code",
   "execution_count": 13,
   "metadata": {},
   "outputs": [
    {
     "data": {
      "image/png": "[encoded data removed]",
      "text/plain": [
       "<Figure size 432x288 with 1 Axes>"
      ]
     },
     "metadata": {},
     "output_type": "display_data"
    },
    {
     "data": {
      "image/png": "[encoded data removed]",
      "text/plain": [
       "<Figure size 432x288 with 1 Axes>"
      ]
     },
     "metadata": {},
     "output_type": "display_data"
    },
    {
     "data": {
      "image/png": "[encoded data removed]",
      "text/plain": [
       "<Figure size 432x288 with 1 Axes>"
      ]
     },
     "metadata": {},
     "output_type": "display_data"
    },
    {
     "data": {
      "image/png": "[encoded data removed]",
      "text/plain": [
       "<Figure size 432x288 with 1 Axes>"
      ]
     },
     "metadata": {},
     "output_type": "display_data"
    },
    {
     "data": {
      "image/png": "[encoded data removed]",
      "text/plain": [
       "<Figure size 432x288 with 1 Axes>"
      ]
     },
     "metadata": {},
     "output_type": "display_data"
    }
   ],
   "source": [
    "plot(Z, U)"
   ]
  },
  {
   "cell_type": "code",
   "execution_count": 14,
   "metadata": {},
   "outputs": [
    {
     "name": "stdout",
     "output_type": "stream",
     "text": [
      "Press ENTER to continue\n"
     ]
    }
   ],
   "source": [
    "if RENDER:\n",
    "    # Wait for user interaction before visualizing. \n",
    "    _ = input(\"Press ENTER to continue\")"
   ]
  },
  {
   "cell_type": "code",
   "execution_count": 15,
   "metadata": {},
   "outputs": [],
   "source": [
    "env.reset()\n",
    "for i in range(N):\n",
    "    z = env.get_state().encode(ENCODING)\n",
    "    u = controller(z, i, ENCODING)\n",
    "    env.apply(u)"
   ]
  },
  {
   "cell_type": "code",
   "execution_count": 16,
   "metadata": {},
   "outputs": [],
   "source": [
    "env.close()"
   ]
  }
 ],
 "metadata": {
  "kernelspec": {
   "display_name": "Python 3",
   "language": "python",
   "name": "python3"
  },
  "language_info": {
   "codemirror_mode": {
    "name": "ipython",
    "version": 3
   },
   "file_extension": ".py",
   "mimetype": "text/x-python",
   "name": "python",
   "nbconvert_exporter": "python",
   "pygments_lexer": "ipython3",
   "version": "3.7.0"
  }
 },
 "nbformat": 4,
 "nbformat_minor": 2
}
