{
 "cells": [
  {
   "cell_type": "markdown",
   "metadata": {},
   "source": [
    "# Pendulum"
   ]
  },
  {
   "cell_type": "markdown",
   "metadata": {},
   "source": [
    "The state and control vectors $\\textbf{x}$ and $\\textbf{u}$ are defined as follows:\n",
    "\n",
    "$$\n",
    "\\begin{equation*}\n",
    "\\textbf{x} = \\begin{bmatrix}\n",
    "    \\theta & \\dot{\\theta}\n",
    "    \\end{bmatrix}\n",
    "\\end{equation*}\n",
    "$$\n",
    "\n",
    "$$\n",
    "\\begin{equation*}\n",
    "\\textbf{u} = \\begin{bmatrix}\n",
    "    \\tau\n",
    "    \\end{bmatrix}\n",
    "\\end{equation*}\n",
    "$$\n",
    "\n",
    "The goal is to swing the pendulum upright:\n",
    "$$\n",
    "\\begin{equation*}\n",
    "\\textbf{x}_{goal} = \\begin{bmatrix}\n",
    "    0 & 0\n",
    "    \\end{bmatrix}\n",
    "\\end{equation*}\n",
    "$$\n",
    "\n",
    "**Note**: The force is constrained between $-1$ and $1$ Nm."
   ]
  },
  {
   "cell_type": "code",
   "execution_count": 1,
   "metadata": {},
   "outputs": [],
   "source": [
    "%matplotlib inline"
   ]
  },
  {
   "cell_type": "code",
   "execution_count": 2,
   "metadata": {},
   "outputs": [],
   "source": [
    "from __future__ import print_function"
   ]
  },
  {
   "cell_type": "code",
   "execution_count": 3,
   "metadata": {},
   "outputs": [],
   "source": [
    "import matplotlib.pyplot as plt"
   ]
  },
  {
   "cell_type": "code",
   "execution_count": 4,
   "metadata": {},
   "outputs": [],
   "source": [
    "import pddp\n",
    "import pddp.examples"
   ]
  },
  {
   "cell_type": "code",
   "execution_count": 5,
   "metadata": {},
   "outputs": [],
   "source": [
    "import torch\n",
    "import numpy as np"
   ]
  },
  {
   "cell_type": "code",
   "execution_count": 6,
   "metadata": {},
   "outputs": [],
   "source": [
    "DT = 0.1  # Time step (s).\n",
    "N = 40  # Horizon length.\n",
    "RENDER = True  # Whether to render the environment or not.\n",
    "\n",
    "# Disable uncertainty since we are dealing with known dynamics.\n",
    "ENCODING = pddp.StateEncoding.IGNORE_UNCERTAINTY"
   ]
  },
  {
   "cell_type": "code",
   "execution_count": 7,
   "metadata": {},
   "outputs": [],
   "source": [
    "cost = pddp.examples.pendulum.PendulumCost()\n",
    "model = pddp.examples.pendulum.PendulumDynamicsModel(DT)\n",
    "env = pddp.examples.pendulum.PendulumEnv(dt=DT, render=RENDER)"
   ]
  },
  {
   "cell_type": "code",
   "execution_count": 8,
   "metadata": {},
   "outputs": [],
   "source": [
    "def plot(Z, U):\n",
    "    t = np.arange(N + 1) * DT\n",
    "    X = pddp.utils.encoding.decode_mean(Z, ENCODING).detach().numpy()\n",
    "    U = model.constrain(U).detach().numpy()\n",
    "\n",
    "    theta = np.unwrap(X[:, 0])  # Makes for smoother plots.\n",
    "    theta_dot = X[:, 1]\n",
    "    \n",
    "    plt.figure()\n",
    "    plt.plot(theta, theta_dot)\n",
    "    plt.xlabel(\"Orientation (rad)\")\n",
    "    plt.ylabel(\"Angular velocity (rad/s)\")\n",
    "    plt.title(\"Orientation Phase Plot\")\n",
    "\n",
    "    plt.figure()\n",
    "    plt.plot(t, theta)\n",
    "    plt.xlabel(\"Time (s)\")\n",
    "    plt.ylabel(\"Orientation (rad)\")\n",
    "    plt.title(\"Orientation path\")\n",
    "\n",
    "    plt.figure()\n",
    "    plt.plot(t, theta_dot)\n",
    "    plt.xlabel(\"Time (s)\")\n",
    "    plt.ylabel(\"Angular velocity (rad / s)\")\n",
    "    plt.title(\"Angular velocity path\")\n",
    "    \n",
    "    plt.figure()\n",
    "    plt.plot(t[:-1], U)\n",
    "    plt.xlabel(\"Time (s)\")\n",
    "    plt.ylabel(\"Torque (N m)\")\n",
    "    plt.title(\"Constrained action path\")\n",
    "    \n",
    "    plt.figure()\n",
    "    plt.plot(J_hist)\n",
    "    plt.xlabel(\"Iteration\")\n",
    "    plt.ylabel(\"Total loss\")\n",
    "    plt.title(\"Loss path\")"
   ]
  },
  {
   "cell_type": "code",
   "execution_count": 9,
   "metadata": {},
   "outputs": [],
   "source": [
    "def on_iteration(iteration, Z, U, J_opt, accepted, converged):\n",
    "    J_opt = J_opt.detach().numpy()\n",
    "\n",
    "    J_hist.append(J_opt)\n",
    "    info = \"CONVERGED\" if converged else (\"accepted\" if accepted else \"FAILED\")\n",
    "    final_state = Z[-1].detach().numpy()\n",
    "    final_state[0] = (final_state[0] + np.pi) % (2 * np.pi) - np.pi\n",
    "    print(\"iteration\", iteration + 1, info, J_opt, final_state)"
   ]
  },
  {
   "cell_type": "code",
   "execution_count": 10,
   "metadata": {},
   "outputs": [],
   "source": [
    "controller = pddp.controllers.PDDPController(env, model, cost)"
   ]
  },
  {
   "cell_type": "code",
   "execution_count": 11,
   "metadata": {},
   "outputs": [],
   "source": [
    "U = torch.randn(N, model.action_size, requires_grad=True)"
   ]
  },
  {
   "cell_type": "code",
   "execution_count": 12,
   "metadata": {
    "scrolled": false
   },
   "outputs": [
    {
     "data": {
      "application/vnd.jupyter.widget-view+json": {
       "model_id": "9155a51c1b6c4eae86dcc90c9030bd8d",
       "version_major": 2,
       "version_minor": 0
      },
      "text/plain": [
       "HBox(children=(IntProgress(value=0, description='PDDP', max=200), HTML(value='')))"
      ]
     },
     "metadata": {},
     "output_type": "display_data"
    },
    {
     "name": "stdout",
     "output_type": "stream",
     "text": [
      "iteration 1 accepted 18540.305 [  0.40329355 -11.961495  ]\n",
      "iteration 2 accepted 17264.957 [ -1.027647 -12.38581 ]\n",
      "iteration 3 accepted 13364.163 [ 2.0643852 10.076061 ]\n",
      "iteration 4 accepted 7495.0547 [ 2.848146 -7.609168]\n",
      "iteration 5 accepted 1605.7902 [-0.10444815  2.2923925 ]\n",
      "iteration 6 accepted 695.1798 [-0.51019365  0.01929945]\n",
      "iteration 7 accepted 468.12946 [-0.7459715 -1.6922784]\n",
      "iteration 8 accepted 115.72061 [-0.26408702 -0.66938967]\n",
      "iteration 9 accepted 38.574333 [-0.3159626 -0.2534661]\n",
      "iteration 10 FAILED 38.574333 [-0.3159626 -0.2534661]\n",
      "iteration 11 FAILED 38.574333 [-0.3159626 -0.2534661]\n",
      "iteration 12 FAILED 38.574333 [-0.3159626 -0.2534661]\n",
      "iteration 13 FAILED 38.574333 [-0.3159626 -0.2534661]\n",
      "iteration 14 FAILED 38.574333 [-0.3159626 -0.2534661]\n",
      "iteration 15 FAILED 38.574333 [-0.3159626 -0.2534661]\n",
      "iteration 16 accepted 22.944523 [-0.27823907 -0.03641036]\n",
      "iteration 17 FAILED 22.944523 [-0.27823907 -0.03641036]\n",
      "iteration 18 FAILED 22.944523 [-0.27823907 -0.03641036]\n",
      "iteration 19 accepted 21.287422 [-0.33014852 -0.13622823]\n",
      "iteration 20 accepted 15.54001 [-0.2891782   0.07063437]\n",
      "iteration 21 accepted 13.075014 [-0.11627371  0.02110678]\n",
      "iteration 22 FAILED 13.075014 [-0.11627371  0.02110678]\n",
      "iteration 23 FAILED 13.075014 [-0.11627371  0.02110678]\n",
      "iteration 24 accepted 13.073241 [-0.11816484  0.01107877]\n",
      "iteration 25 FAILED 13.073241 [-0.11816484  0.01107877]\n",
      "iteration 26 FAILED 13.073241 [-0.11816484  0.01107877]\n",
      "iteration 27 FAILED 13.073241 [-0.11816484  0.01107877]\n",
      "iteration 28 accepted 10.541532 [-0.17798835 -0.03466305]\n",
      "iteration 29 accepted 9.301724 [-0.131728   -0.08784628]\n",
      "iteration 30 FAILED 9.301724 [-0.131728   -0.08784628]\n",
      "iteration 31 FAILED 9.301724 [-0.131728   -0.08784628]\n",
      "iteration 32 accepted 8.395817 [-0.16803485 -0.12594303]\n",
      "iteration 33 accepted 7.3327785 [-0.15975028  0.00774783]\n",
      "iteration 34 FAILED 7.3327785 [-0.15975028  0.00774783]\n",
      "iteration 35 FAILED 7.3327785 [-0.15975028  0.00774783]\n",
      "iteration 36 accepted 7.329874 [-0.19432193 -0.01567143]\n",
      "iteration 37 accepted 6.954043 [-0.16348583  0.1096949 ]\n",
      "iteration 38 accepted 5.1678686 [-0.12727529  0.01990223]\n",
      "iteration 39 FAILED 5.1678677 [-0.12727529  0.01990223]\n",
      "iteration 40 FAILED 5.1678677 [-0.12727529  0.01990223]\n",
      "iteration 41 accepted 4.602021 [-0.10861666  0.01473606]\n",
      "iteration 42 FAILED 4.602021 [-0.10861666  0.01473606]\n",
      "iteration 43 FAILED 4.602021 [-0.10861666  0.01473606]\n",
      "iteration 44 accepted 4.2944674 [-0.10750753  0.01143503]\n",
      "iteration 45 accepted 4.1492095 [-0.07689697  0.00189662]\n",
      "iteration 46 accepted 4.1391068 [-0.07554514  0.00939262]\n",
      "iteration 47 accepted 4.1310925 [-0.07210381  0.03137982]\n",
      "iteration 48 accepted 4.115481 [-0.07231123  0.03122723]\n",
      "iteration 49 accepted 4.1120744 [-0.072038    0.03360474]\n",
      "iteration 50 FAILED 4.1120744 [-0.072038    0.03360474]\n",
      "iteration 51 FAILED 4.1120744 [-0.072038    0.03360474]\n",
      "iteration 52 FAILED 4.1120744 [-0.072038    0.03360474]\n",
      "iteration 53 FAILED 4.1120744 [-0.072038    0.03360474]\n",
      "iteration 54 FAILED 4.1120744 [-0.072038    0.03360474]\n",
      "iteration 55 FAILED 4.1120744 [-0.072038    0.03360474]\n",
      "iteration 56 accepted 4.0732584 [-0.05565244  0.0746578 ]\n",
      "iteration 57 accepted 3.6946566 [-0.04484016  0.01929975]\n",
      "iteration 58 accepted 3.6708736 [-0.04710704  0.00727975]\n",
      "iteration 59 accepted 3.6706846 [-0.04822094  0.00135934]\n",
      "iteration 60 FAILED 3.6706846 [-0.04822094  0.00135934]\n",
      "iteration 61 FAILED 3.6706846 [-0.04822094  0.00135934]\n",
      "iteration 62 FAILED 3.6706846 [-0.04822094  0.00135934]\n",
      "iteration 63 FAILED 3.6706846 [-0.04822094  0.00135934]\n",
      "iteration 64 accepted 3.5500617 [-0.05543548 -0.00925291]\n",
      "iteration 65 accepted 3.524924 [-0.04032451  0.00411594]\n",
      "iteration 66 accepted 3.4209516 [-0.03962022  0.0108968 ]\n",
      "iteration 67 accepted 3.3751833 [-0.0267914   0.00151575]\n",
      "iteration 68 accepted 3.3749588 [-0.02704984  0.00011539]\n",
      "iteration 69 FAILED 3.3749583 [-0.02704984  0.00011539]\n",
      "iteration 70 FAILED 3.3749583 [-0.02704984  0.00011539]\n",
      "iteration 71 FAILED 3.3749583 [-0.02704984  0.00011539]\n",
      "iteration 72 FAILED 3.3749583 [-0.02704984  0.00011539]\n",
      "iteration 73 FAILED 3.3749583 [-0.02704984  0.00011539]\n",
      "iteration 74 accepted 3.3749332 [-0.02729017 -0.00117612]\n",
      "iteration 75 FAILED 3.3749332 [-0.02729017 -0.00117612]\n",
      "iteration 76 accepted 3.3748634 [-0.02728254 -0.00113654]\n",
      "iteration 77 FAILED 3.3748639 [-0.02728254 -0.00113654]\n",
      "iteration 78 FAILED 3.3748639 [-0.02728254 -0.00113654]\n",
      "iteration 79 accepted 3.3724992 [-0.03268081 -0.00027788]\n",
      "iteration 80 accepted 3.3479435 [-0.03407175 -0.00011563]\n",
      "iteration 81 accepted 3.3456397 [-0.03148443  0.00459039]\n",
      "iteration 82 accepted 3.3411374 [-0.03088314  0.00244915]\n",
      "iteration 83 accepted 3.3409386 [-0.03097994  0.00191879]\n",
      "iteration 84 accepted 3.340858 [-0.0312174   0.00063884]\n",
      "iteration 85 accepted 3.3408158 [-0.03129226  0.00022352]\n",
      "iteration 86 FAILED 3.3408158 [-0.03129226  0.00022352]\n",
      "iteration 87 FAILED 3.3408158 [-0.03129226  0.00022352]\n",
      "iteration 88 FAILED 3.3408158 [-0.03129226  0.00022352]\n",
      "iteration 89 FAILED 3.3408158 [-0.03129226  0.00022352]\n",
      "iteration 90 FAILED 3.3408158 [-0.03129226  0.00022352]\n",
      "iteration 91 FAILED 3.3408158 [-0.03129226  0.00022352]\n",
      "iteration 92 FAILED 3.3408158 [-0.03129226  0.00022352]\n",
      "iteration 93 accepted 3.3186293 [-0.03105957  0.00090802]\n",
      "iteration 94 accepted 3.3134365 [-0.02989608  0.00126624]\n",
      "iteration 95 accepted 3.3120933 [-0.02928859  0.00137436]\n",
      "iteration 96 accepted 3.306389 [-0.02989132  0.00140095]\n",
      "iteration 97 accepted 3.2789757 [-0.02954036  0.00150931]\n",
      "iteration 98 accepted 3.2717552 [-0.03159076  0.00056136]\n",
      "iteration 99 FAILED 3.2717552 [-0.03159076  0.00056136]\n",
      "iteration 100 FAILED 3.2717552 [-0.03159076  0.00056136]\n",
      "iteration 101 FAILED 3.2717552 [-0.03159076  0.00056136]\n",
      "iteration 102 FAILED 3.2717552 [-0.03159076  0.00056136]\n",
      "iteration 103 FAILED 3.2717552 [-0.03159076  0.00056136]\n",
      "iteration 104 FAILED 3.2717552 [-0.03159076  0.00056136]\n",
      "iteration 105 accepted 3.2422857 [-0.02960045  0.00102592]\n",
      "iteration 106 accepted 3.2255177 [-0.02734787  0.00128102]\n",
      "iteration 107 accepted 3.2229624 [-0.02630932  0.00133133]\n",
      "iteration 108 accepted 3.2225301 [-0.02836115  0.00149369]\n",
      "iteration 109 accepted 3.2120717 [-0.02927143 -0.00128615]\n",
      "iteration 110 accepted 3.2113972 [-0.02899248  0.00019324]\n",
      "iteration 111 accepted 3.2111914 [-0.02870065  0.0017395 ]\n",
      "iteration 112 FAILED 3.2111912 [-0.02870065  0.0017395 ]\n",
      "iteration 113 FAILED 3.2111912 [-0.02870065  0.0017395 ]\n",
      "iteration 114 FAILED 3.2111912 [-0.02870065  0.0017395 ]\n",
      "iteration 115 FAILED 3.2111912 [-0.02870065  0.0017395 ]\n",
      "iteration 116 FAILED 3.2111912 [-0.02870065  0.0017395 ]\n",
      "iteration 117 FAILED 3.2111912 [-0.02870065  0.0017395 ]\n",
      "iteration 118 FAILED 3.2111912 [-0.02870065  0.0017395 ]\n",
      "iteration 119 accepted 3.1980438 [-0.02994997  0.00144529]\n",
      "iteration 120 accepted 3.1942468 [-0.03014261  0.00127566]\n",
      "iteration 121 accepted 3.1910884 [-0.02899868  0.00124264]\n",
      "iteration 122 accepted 3.1862202 [-0.02750188  0.00124371]\n",
      "iteration 123 accepted 3.1692643 [-0.02745134  0.00135493]\n",
      "iteration 124 accepted 3.153984 [-0.02731496 -0.0016048 ]\n",
      "iteration 125 FAILED 3.153984 [-0.02731496 -0.0016048 ]\n",
      "iteration 126 FAILED 3.153984 [-0.02731496 -0.0016048 ]\n",
      "iteration 127 FAILED 3.153984 [-0.02731496 -0.0016048 ]\n",
      "iteration 128 FAILED 3.153984 [-0.02731496 -0.0016048 ]\n",
      "iteration 129 FAILED 3.153984 [-0.02731496 -0.0016048 ]\n",
      "iteration 130 FAILED 3.153984 [-0.02731496 -0.0016048 ]\n",
      "iteration 131 accepted 3.1309946 [-2.7435128e-02  3.4213066e-05]\n",
      "iteration 132 accepted 3.1277454 [-0.02690488  0.00085187]\n",
      "iteration 133 accepted 3.1257238 [-0.02638609  0.00110865]\n",
      "iteration 134 accepted 3.1230693 [-0.02614719  0.00112927]\n",
      "iteration 135 accepted 3.1159055 [-0.02617532  0.00114059]\n",
      "iteration 136 accepted 3.1158783 [-0.02652866 -0.00077403]\n",
      "iteration 137 FAILED 3.1158783 [-0.02652866 -0.00077403]\n",
      "iteration 138 FAILED 3.1158783 [-0.02652866 -0.00077403]\n",
      "iteration 139 FAILED 3.1158783 [-0.02652866 -0.00077403]\n",
      "iteration 140 FAILED 3.1158783 [-0.02652866 -0.00077403]\n",
      "iteration 141 FAILED 3.1158783 [-0.02652866 -0.00077403]\n",
      "iteration 142 accepted 3.115805 [-0.02651245 -0.00068617]\n",
      "iteration 143 FAILED 3.115805 [-0.02651245 -0.00068617]\n",
      "iteration 144 FAILED 3.115805 [-0.02651245 -0.00068617]\n",
      "iteration 145 accepted 3.1079364 [-0.02988273 -0.00713742]\n"
     ]
    },
    {
     "name": "stdout",
     "output_type": "stream",
     "text": [
      "iteration 146 accepted 3.1053185 [-0.0257724   0.00126719]\n",
      "iteration 147 accepted 3.0989618 [-0.02164919  0.00760186]\n",
      "iteration 148 accepted 3.0964208 [-0.02650005  0.00091958]\n",
      "iteration 149 accepted 3.0891511 [-0.02269394 -0.00520694]\n",
      "iteration 150 FAILED 3.0891511 [-0.02269394 -0.00520694]\n",
      "iteration 151 FAILED 3.0891511 [-0.02269394 -0.00520694]\n",
      "iteration 152 FAILED 3.0891511 [-0.02269394 -0.00520694]\n",
      "iteration 153 FAILED 3.0891511 [-0.02269394 -0.00520694]\n",
      "iteration 154 FAILED 3.0891511 [-0.02269394 -0.00520694]\n",
      "iteration 155 FAILED 3.0891511 [-0.02269394 -0.00520694]\n",
      "iteration 156 accepted 3.0759788 [-0.02297575 -0.00350428]\n",
      "iteration 157 accepted 3.0646896 [-0.02331859 -0.00156212]\n",
      "iteration 158 accepted 3.053444 [-0.02389938  0.00038218]\n",
      "iteration 159 accepted 3.0477824 [-0.02436048  0.00098348]\n",
      "iteration 160 accepted 3.0431561 [-0.0266288   0.00183773]\n",
      "iteration 161 accepted 3.0308814 [-0.02296192  0.00044739]\n",
      "iteration 162 accepted 3.0308275 [-0.02297765  0.00035489]\n",
      "iteration 163 accepted 3.0308087 [-2.3044411e-02 -8.7022781e-06]\n",
      "iteration 164 FAILED 3.0308084 [-2.3044411e-02 -8.7022781e-06]\n",
      "iteration 165 FAILED 3.0308084 [-2.3044411e-02 -8.7022781e-06]\n",
      "iteration 166 FAILED 3.0308084 [-2.3044411e-02 -8.7022781e-06]\n",
      "iteration 167 FAILED 3.0308084 [-2.3044411e-02 -8.7022781e-06]\n",
      "iteration 168 FAILED 3.0308084 [-2.3044411e-02 -8.7022781e-06]\n",
      "iteration 169 FAILED 3.0308084 [-2.3044411e-02 -8.7022781e-06]\n",
      "iteration 170 FAILED 3.0308084 [-2.3044411e-02 -8.7022781e-06]\n",
      "iteration 171 accepted 3.0187097 [-0.02323228  0.00059962]\n",
      "iteration 172 accepted 3.0162895 [-0.02308542  0.00090182]\n",
      "iteration 173 accepted 3.0152717 [-0.02334625  0.00099576]\n",
      "iteration 174 accepted 3.012888 [-0.02370149  0.00099802]\n",
      "iteration 175 accepted 3.001248 [-0.02367098  0.00100136]\n",
      "iteration 176 accepted 2.9945416 [-0.02465994  0.000512  ]\n",
      "iteration 177 accepted 2.9817724 [-0.02936298 -0.0068531 ]\n",
      "iteration 178 accepted 2.9805737 [-0.0225156  -0.00087893]\n",
      "iteration 179 FAILED 2.9805737 [-0.0225156  -0.00087893]\n",
      "iteration 180 FAILED 2.9805737 [-0.0225156  -0.00087893]\n",
      "iteration 181 FAILED 2.9805737 [-0.0225156  -0.00087893]\n",
      "iteration 182 FAILED 2.9805737 [-0.0225156  -0.00087893]\n",
      "iteration 183 FAILED 2.9805737 [-0.0225156  -0.00087893]\n",
      "iteration 184 FAILED 2.9805737 [-0.0225156  -0.00087893]\n",
      "iteration 185 FAILED 2.9805737 [-0.0225156  -0.00087893]\n",
      "iteration 186 accepted 2.9595416 [-0.0222953   0.00017166]\n",
      "iteration 187 accepted 2.9490032 [-0.02166826  0.00070357]\n",
      "iteration 188 accepted 2.942044 [-0.02145893  0.00086999]\n",
      "iteration 189 accepted 2.9391282 [-0.02289802  0.00089872]\n",
      "iteration 190 accepted 2.9321744 [-0.02101452 -0.00022769]\n",
      "iteration 191 accepted 2.931239 [-0.02171547 -0.00399709]\n",
      "iteration 192 FAILED 2.931239 [-0.02171547 -0.00399709]\n",
      "iteration 193 FAILED 2.931239 [-0.02171547 -0.00399709]\n",
      "iteration 194 FAILED 2.931239 [-0.02171547 -0.00399709]\n",
      "iteration 195 accepted 2.9311135 [-0.02184183 -0.00467074]\n",
      "iteration 196 FAILED 2.9311135 [-0.02184183 -0.00467074]\n",
      "iteration 197 FAILED 2.9311135 [-0.02184183 -0.00467074]\n",
      "iteration 198 FAILED 2.9311135 [-0.02184183 -0.00467074]\n",
      "iteration 199 FAILED 2.9311135 [-0.02184183 -0.00467074]\n",
      "iteration 200 FAILED 2.9311135 [-0.02184183 -0.00467074]\n",
      "\n"
     ]
    }
   ],
   "source": [
    "J_hist = []\n",
    "controller.eval()\n",
    "Z, U = controller.fit(U, encoding=ENCODING, n_iterations=200, on_iteration=on_iteration)"
   ]
  },
  {
   "cell_type": "code",
   "execution_count": 13,
   "metadata": {},
   "outputs": [
    {
     "data": {
      "image/png": "[encoded data removed]",
      "text/plain": [
       "<Figure size 432x288 with 1 Axes>"
      ]
     },
     "metadata": {},
     "output_type": "display_data"
    },
    {
     "data": {
      "image/png": "[encoded data removed]",
      "text/plain": [
       "<Figure size 432x288 with 1 Axes>"
      ]
     },
     "metadata": {},
     "output_type": "display_data"
    },
    {
     "data": {
      "image/png": "[encoded data removed]",
      "text/plain": [
       "<Figure size 432x288 with 1 Axes>"
      ]
     },
     "metadata": {},
     "output_type": "display_data"
    },
    {
     "data": {
      "image/png": "[encoded data removed]",
      "text/plain": [
       "<Figure size 432x288 with 1 Axes>"
      ]
     },
     "metadata": {},
     "output_type": "display_data"
    },
    {
     "data": {
      "image/png": "[encoded data removed]",
      "text/plain": [
       "<Figure size 432x288 with 1 Axes>"
      ]
     },
     "metadata": {},
     "output_type": "display_data"
    }
   ],
   "source": [
    "plot(Z, U)"
   ]
  },
  {
   "cell_type": "code",
   "execution_count": 14,
   "metadata": {},
   "outputs": [
    {
     "name": "stdout",
     "output_type": "stream",
     "text": [
      "Press ENTER to continue\n"
     ]
    }
   ],
   "source": [
    "if RENDER:\n",
    "    # Wait for user interaction before visualizing. \n",
    "    _ = input(\"Press ENTER to continue\")"
   ]
  },
  {
   "cell_type": "code",
   "execution_count": 15,
   "metadata": {},
   "outputs": [],
   "source": [
    "import time\n",
    "\n",
    "for i, u in enumerate(U):\n",
    "    env.apply(u)\n",
    "    time.sleep(DT)"
   ]
  },
  {
   "cell_type": "code",
   "execution_count": 16,
   "metadata": {},
   "outputs": [],
   "source": [
    "env.close()"
   ]
  }
 ],
 "metadata": {
  "kernelspec": {
   "display_name": "Python 3",
   "language": "python",
   "name": "python3"
  },
  "language_info": {
   "codemirror_mode": {
    "name": "ipython",
    "version": 3
   },
   "file_extension": ".py",
   "mimetype": "text/x-python",
   "name": "python",
   "nbconvert_exporter": "python",
   "pygments_lexer": "ipython3",
   "version": "3.7.0"
  }
 },
 "nbformat": 4,
 "nbformat_minor": 2
}
